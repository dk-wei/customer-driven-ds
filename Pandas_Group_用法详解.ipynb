{
  "nbformat": 4,
  "nbformat_minor": 0,
  "metadata": {
    "colab": {
      "name": "Pandas Group 用法详解.ipynb",
      "provenance": [],
      "collapsed_sections": [],
      "toc_visible": true,
      "authorship_tag": "ABX9TyMJfOSAb6Z7eIUL+hDssbrv",
      "include_colab_link": true
    },
    "kernelspec": {
      "display_name": "Python 3",
      "name": "python3"
    },
    "language_info": {
      "name": "python"
    }
  },
  "cells": [
    {
      "cell_type": "markdown",
      "metadata": {
        "id": "view-in-github",
        "colab_type": "text"
      },
      "source": [
        "<a href=\"https://colab.research.google.com/github/dk-wei/customer-driven-ds/blob/main/Pandas_Group_%E7%94%A8%E6%B3%95%E8%AF%A6%E8%A7%A3.ipynb\" target=\"_parent\"><img src=\"https://colab.research.google.com/assets/colab-badge.svg\" alt=\"Open In Colab\"/></a>"
      ]
    },
    {
      "cell_type": "code",
      "metadata": {
        "id": "KrZ3cn156ZN2"
      },
      "source": [
        "import pandas as pd\n",
        "import numpy as np"
      ],
      "execution_count": 185,
      "outputs": []
    },
    {
      "cell_type": "code",
      "metadata": {
        "id": "7u4DygpA588C"
      },
      "source": [
        "company = [\"A\",\"B\",\"C\"]\n",
        "\n",
        "data = pd.DataFrame({\"company\":[company[x] for x in np.random.randint(0,len(company),10)],\n",
        "                   \"salary\":np.random.randint(5,50,10),\n",
        "                   \"age\":np.random.randint(15,50,10)})"
      ],
      "execution_count": 186,
      "outputs": []
    },
    {
      "cell_type": "code",
      "metadata": {
        "colab": {
          "base_uri": "https://localhost:8080/",
          "height": 204
        },
        "id": "dmBK5rSI584g",
        "outputId": "89df4eb6-814d-475e-e5c3-d2e5e805096b"
      },
      "source": [
        "data.head()"
      ],
      "execution_count": 187,
      "outputs": [
        {
          "output_type": "execute_result",
          "data": {
            "text/html": [
              "<div>\n",
              "<style scoped>\n",
              "    .dataframe tbody tr th:only-of-type {\n",
              "        vertical-align: middle;\n",
              "    }\n",
              "\n",
              "    .dataframe tbody tr th {\n",
              "        vertical-align: top;\n",
              "    }\n",
              "\n",
              "    .dataframe thead th {\n",
              "        text-align: right;\n",
              "    }\n",
              "</style>\n",
              "<table border=\"1\" class=\"dataframe\">\n",
              "  <thead>\n",
              "    <tr style=\"text-align: right;\">\n",
              "      <th></th>\n",
              "      <th>company</th>\n",
              "      <th>salary</th>\n",
              "      <th>age</th>\n",
              "    </tr>\n",
              "  </thead>\n",
              "  <tbody>\n",
              "    <tr>\n",
              "      <th>0</th>\n",
              "      <td>A</td>\n",
              "      <td>21</td>\n",
              "      <td>15</td>\n",
              "    </tr>\n",
              "    <tr>\n",
              "      <th>1</th>\n",
              "      <td>B</td>\n",
              "      <td>35</td>\n",
              "      <td>20</td>\n",
              "    </tr>\n",
              "    <tr>\n",
              "      <th>2</th>\n",
              "      <td>A</td>\n",
              "      <td>14</td>\n",
              "      <td>39</td>\n",
              "    </tr>\n",
              "    <tr>\n",
              "      <th>3</th>\n",
              "      <td>C</td>\n",
              "      <td>31</td>\n",
              "      <td>38</td>\n",
              "    </tr>\n",
              "    <tr>\n",
              "      <th>4</th>\n",
              "      <td>B</td>\n",
              "      <td>29</td>\n",
              "      <td>37</td>\n",
              "    </tr>\n",
              "  </tbody>\n",
              "</table>\n",
              "</div>"
            ],
            "text/plain": [
              "  company  salary  age\n",
              "0       A      21   15\n",
              "1       B      35   20\n",
              "2       A      14   39\n",
              "3       C      31   38\n",
              "4       B      29   37"
            ]
          },
          "metadata": {
            "tags": []
          },
          "execution_count": 187
        }
      ]
    },
    {
      "cell_type": "code",
      "metadata": {
        "id": "wkTaPMrZ58vi"
      },
      "source": [
        "group = data.groupby(\"company\")"
      ],
      "execution_count": 188,
      "outputs": []
    },
    {
      "cell_type": "code",
      "metadata": {
        "colab": {
          "base_uri": "https://localhost:8080/"
        },
        "id": "O4L-khzf58ra",
        "outputId": "56a07ef2-e889-47db-a415-ad8e7540508d"
      },
      "source": [
        "group"
      ],
      "execution_count": 189,
      "outputs": [
        {
          "output_type": "execute_result",
          "data": {
            "text/plain": [
              "<pandas.core.groupby.generic.DataFrameGroupBy object at 0x7fd9abe88190>"
            ]
          },
          "metadata": {
            "tags": []
          },
          "execution_count": 189
        }
      ]
    },
    {
      "cell_type": "markdown",
      "metadata": {
        "id": "v0MOYsQMAGSX"
      },
      "source": [
        "groupby很简单，直接存入了内存成为了一个对象"
      ]
    },
    {
      "cell_type": "markdown",
      "metadata": {
        "id": "qeK9DlLmAknz"
      },
      "source": [
        "要想看到groupby的话可以使用`list`, 或者用`apply(list)`"
      ]
    },
    {
      "cell_type": "code",
      "metadata": {
        "colab": {
          "base_uri": "https://localhost:8080/"
        },
        "id": "1w8ZbJ1f8lU7",
        "outputId": "f266475a-d416-43e7-f612-a27f92f3fa74"
      },
      "source": [
        "list(group)"
      ],
      "execution_count": 190,
      "outputs": [
        {
          "output_type": "execute_result",
          "data": {
            "text/plain": [
              "[('A',   company  salary  age\n",
              "  0       A      21   15\n",
              "  2       A      14   39\n",
              "  5       A      13   30), ('B',   company  salary  age\n",
              "  1       B      35   20\n",
              "  4       B      29   37\n",
              "  7       B      19   45\n",
              "  8       B       7   46\n",
              "  9       B      40   28), ('C',   company  salary  age\n",
              "  3       C      31   38\n",
              "  6       C      10   24)]"
            ]
          },
          "metadata": {
            "tags": []
          },
          "execution_count": 190
        }
      ]
    },
    {
      "cell_type": "code",
      "metadata": {
        "id": "D8XpMPnUMRHG",
        "colab": {
          "base_uri": "https://localhost:8080/",
          "height": 35
        },
        "outputId": "e4fde40c-579e-4a3e-c806-e8000ae3c040"
      },
      "source": [
        "list(group)[0][0]"
      ],
      "execution_count": 191,
      "outputs": [
        {
          "output_type": "execute_result",
          "data": {
            "application/vnd.google.colaboratory.intrinsic+json": {
              "type": "string"
            },
            "text/plain": [
              "'A'"
            ]
          },
          "metadata": {
            "tags": []
          },
          "execution_count": 191
        }
      ]
    },
    {
      "cell_type": "markdown",
      "metadata": {
        "id": "31JLoW-eB20I"
      },
      "source": [
        "转换成列表的形式后，可以看到，列表由三个元组组成，每个元组中，第一个元素是组别（这里是按照company进行分组，所以最后分为了A,B,C），第二个元素的是对应组别下的DataFrame，整个过程可以图解如下：\n",
        "\n",
        "![](https://pic2.zhimg.com/80/v2-c619d636a34458a51b375b0ad2cbf7c5_1440w.jpg)\n",
        "\n",
        "\n"
      ]
    },
    {
      "cell_type": "markdown",
      "metadata": {
        "id": "c-S96MPSJro-"
      },
      "source": [
        "# 最最重要的底层概念就是：\n",
        "\n",
        "  groupby的过程就是将原有的DataFrame按照groupby的字段（这里是company），划分为若干个分组的**小DataFrame**，被分为多少个组就有多少个分组DataFrame。**所以说，在groupby之后的一系列操作（如agg、apply等），均是基于小DataFrame的操作**。可以通过groupby后面选取某个column，选取小Dataframe，进行操作。\n",
        "  \n",
        "  \n",
        "理解了这点，也就基本摸清了Pandas中groupby操作的主要原理。下面来讲讲groupby之后的常见操作。"
      ]
    },
    {
      "cell_type": "code",
      "metadata": {
        "colab": {
          "base_uri": "https://localhost:8080/"
        },
        "id": "KLMxQixq9B1y",
        "outputId": "96f2f60b-fc1a-47be-e62a-ed606eecb2ce"
      },
      "source": [
        "data.groupby([\"company\", \"salary\"])['age'].apply(list)"
      ],
      "execution_count": 192,
      "outputs": [
        {
          "output_type": "execute_result",
          "data": {
            "text/plain": [
              "company  salary\n",
              "A        13        [30]\n",
              "         14        [39]\n",
              "         21        [15]\n",
              "B        7         [46]\n",
              "         19        [45]\n",
              "         29        [37]\n",
              "         35        [20]\n",
              "         40        [28]\n",
              "C        10        [24]\n",
              "         31        [38]\n",
              "Name: age, dtype: object"
            ]
          },
          "metadata": {
            "tags": []
          },
          "execution_count": 192
        }
      ]
    },
    {
      "cell_type": "markdown",
      "metadata": {
        "id": "wb1FRZxzLOnP"
      },
      "source": [
        "进行了`groupby`之后，其实是形成了一个个的小dataframe："
      ]
    },
    {
      "cell_type": "code",
      "metadata": {
        "colab": {
          "base_uri": "https://localhost:8080/"
        },
        "id": "chHRwvOx58pS",
        "outputId": "4951d22b-c0ab-4228-857a-7cbb4caf5ba0"
      },
      "source": [
        "data.groupby(\"company\").apply(list)"
      ],
      "execution_count": 193,
      "outputs": [
        {
          "output_type": "execute_result",
          "data": {
            "text/plain": [
              "company\n",
              "A    [company, salary, age]\n",
              "B    [company, salary, age]\n",
              "C    [company, salary, age]\n",
              "dtype: object"
            ]
          },
          "metadata": {
            "tags": []
          },
          "execution_count": 193
        }
      ]
    },
    {
      "cell_type": "code",
      "metadata": {
        "colab": {
          "base_uri": "https://localhost:8080/"
        },
        "id": "URRf20EM58lW",
        "outputId": "82231671-0116-4f3e-c059-f2a3d06b4f4d"
      },
      "source": [
        "data.groupby(\"company\")['company'].apply(list)"
      ],
      "execution_count": 194,
      "outputs": [
        {
          "output_type": "execute_result",
          "data": {
            "text/plain": [
              "company\n",
              "A          [A, A, A]\n",
              "B    [B, B, B, B, B]\n",
              "C             [C, C]\n",
              "Name: company, dtype: object"
            ]
          },
          "metadata": {
            "tags": []
          },
          "execution_count": 194
        }
      ]
    },
    {
      "cell_type": "markdown",
      "metadata": {
        "id": "otmctApBBD7V"
      },
      "source": [
        "如果你想单独操作某一个`list`，例如`salary`，你就在`groupby('company)`后面带上['salary'], 然后对每个公司的这个`salary`进行`apply function`数据操作"
      ]
    },
    {
      "cell_type": "code",
      "metadata": {
        "colab": {
          "base_uri": "https://localhost:8080/"
        },
        "id": "ee3Sc0JuKN5K",
        "outputId": "93e5b96f-7528-4b91-cd5b-71994ec3cdcf"
      },
      "source": [
        "data.groupby(\"company\")['salary'].apply(list)"
      ],
      "execution_count": 195,
      "outputs": [
        {
          "output_type": "execute_result",
          "data": {
            "text/plain": [
              "company\n",
              "A           [21, 14, 13]\n",
              "B    [35, 29, 19, 7, 40]\n",
              "C               [31, 10]\n",
              "Name: salary, dtype: object"
            ]
          },
          "metadata": {
            "tags": []
          },
          "execution_count": 195
        }
      ]
    },
    {
      "cell_type": "code",
      "metadata": {
        "colab": {
          "base_uri": "https://localhost:8080/"
        },
        "id": "GIO2aDxgKY5i",
        "outputId": "e5edc80a-b49e-49f4-8e8f-33e8cb9b4e41"
      },
      "source": [
        "data.groupby(\"company\")['salary'].apply(lambda x: x*2)"
      ],
      "execution_count": 196,
      "outputs": [
        {
          "output_type": "execute_result",
          "data": {
            "text/plain": [
              "0    42\n",
              "1    70\n",
              "2    28\n",
              "3    62\n",
              "4    58\n",
              "5    26\n",
              "6    20\n",
              "7    38\n",
              "8    14\n",
              "9    80\n",
              "Name: salary, dtype: int64"
            ]
          },
          "metadata": {
            "tags": []
          },
          "execution_count": 196
        }
      ]
    },
    {
      "cell_type": "markdown",
      "metadata": {
        "id": "Piq4UfXvL6Uj"
      },
      "source": [
        "最后的结果是成单独一列"
      ]
    },
    {
      "cell_type": "markdown",
      "metadata": {
        "id": "BZZdVOTWFdaj"
      },
      "source": [
        "# 操作1：agg简单聚合"
      ]
    },
    {
      "cell_type": "markdown",
      "metadata": {
        "id": "xOw5iz7_Etxv"
      },
      "source": [
        "最后的结果是一个聚合的结果\n",
        "\n",
        "针对样例数据集，如果我想求不同公司员工的平均年龄和平均薪水，可以按照下方的代码进行："
      ]
    },
    {
      "cell_type": "code",
      "metadata": {
        "colab": {
          "base_uri": "https://localhost:8080/",
          "height": 173
        },
        "id": "I6oMLcw458gz",
        "outputId": "95183408-291e-4b89-ecbe-93631eccceab"
      },
      "source": [
        "data.groupby(\"company\").agg('mean')"
      ],
      "execution_count": 197,
      "outputs": [
        {
          "output_type": "execute_result",
          "data": {
            "text/html": [
              "<div>\n",
              "<style scoped>\n",
              "    .dataframe tbody tr th:only-of-type {\n",
              "        vertical-align: middle;\n",
              "    }\n",
              "\n",
              "    .dataframe tbody tr th {\n",
              "        vertical-align: top;\n",
              "    }\n",
              "\n",
              "    .dataframe thead th {\n",
              "        text-align: right;\n",
              "    }\n",
              "</style>\n",
              "<table border=\"1\" class=\"dataframe\">\n",
              "  <thead>\n",
              "    <tr style=\"text-align: right;\">\n",
              "      <th></th>\n",
              "      <th>salary</th>\n",
              "      <th>age</th>\n",
              "    </tr>\n",
              "    <tr>\n",
              "      <th>company</th>\n",
              "      <th></th>\n",
              "      <th></th>\n",
              "    </tr>\n",
              "  </thead>\n",
              "  <tbody>\n",
              "    <tr>\n",
              "      <th>A</th>\n",
              "      <td>16.0</td>\n",
              "      <td>28.0</td>\n",
              "    </tr>\n",
              "    <tr>\n",
              "      <th>B</th>\n",
              "      <td>26.0</td>\n",
              "      <td>35.2</td>\n",
              "    </tr>\n",
              "    <tr>\n",
              "      <th>C</th>\n",
              "      <td>20.5</td>\n",
              "      <td>31.0</td>\n",
              "    </tr>\n",
              "  </tbody>\n",
              "</table>\n",
              "</div>"
            ],
            "text/plain": [
              "         salary   age\n",
              "company              \n",
              "A          16.0  28.0\n",
              "B          26.0  35.2\n",
              "C          20.5  31.0"
            ]
          },
          "metadata": {
            "tags": []
          },
          "execution_count": 197
        }
      ]
    },
    {
      "cell_type": "markdown",
      "metadata": {
        "id": "ebTF_aa6EyR6"
      },
      "source": [
        "如果想对**针对不同的列求不同的值**，比如要计算不同公司员工的平均年龄以及薪水的中位数，可以利用字典进行聚合操作的指定："
      ]
    },
    {
      "cell_type": "code",
      "metadata": {
        "colab": {
          "base_uri": "https://localhost:8080/",
          "height": 173
        },
        "id": "J0mA8zf758bD",
        "outputId": "3f4b5bc4-8599-423d-c5e7-a6404e4a4d7b"
      },
      "source": [
        "data.groupby('company').agg({'salary':'median','age':'mean'})"
      ],
      "execution_count": 198,
      "outputs": [
        {
          "output_type": "execute_result",
          "data": {
            "text/html": [
              "<div>\n",
              "<style scoped>\n",
              "    .dataframe tbody tr th:only-of-type {\n",
              "        vertical-align: middle;\n",
              "    }\n",
              "\n",
              "    .dataframe tbody tr th {\n",
              "        vertical-align: top;\n",
              "    }\n",
              "\n",
              "    .dataframe thead th {\n",
              "        text-align: right;\n",
              "    }\n",
              "</style>\n",
              "<table border=\"1\" class=\"dataframe\">\n",
              "  <thead>\n",
              "    <tr style=\"text-align: right;\">\n",
              "      <th></th>\n",
              "      <th>salary</th>\n",
              "      <th>age</th>\n",
              "    </tr>\n",
              "    <tr>\n",
              "      <th>company</th>\n",
              "      <th></th>\n",
              "      <th></th>\n",
              "    </tr>\n",
              "  </thead>\n",
              "  <tbody>\n",
              "    <tr>\n",
              "      <th>A</th>\n",
              "      <td>14.0</td>\n",
              "      <td>28.0</td>\n",
              "    </tr>\n",
              "    <tr>\n",
              "      <th>B</th>\n",
              "      <td>29.0</td>\n",
              "      <td>35.2</td>\n",
              "    </tr>\n",
              "    <tr>\n",
              "      <th>C</th>\n",
              "      <td>20.5</td>\n",
              "      <td>31.0</td>\n",
              "    </tr>\n",
              "  </tbody>\n",
              "</table>\n",
              "</div>"
            ],
            "text/plain": [
              "         salary   age\n",
              "company              \n",
              "A          14.0  28.0\n",
              "B          29.0  35.2\n",
              "C          20.5  31.0"
            ]
          },
          "metadata": {
            "tags": []
          },
          "execution_count": 198
        }
      ]
    },
    {
      "cell_type": "markdown",
      "metadata": {
        "id": "0g-Gf1jVE8V9"
      },
      "source": [
        "`agg`聚合过程可以图解如下（第二个例子为例）：\n",
        "\n",
        "![](https://pic3.zhimg.com/80/v2-c580eb0c4fec7d4b3de272f42bdb2fba_1440w.jpg)"
      ]
    },
    {
      "cell_type": "markdown",
      "metadata": {
        "id": "fi7KxTy7FpOR"
      },
      "source": [
        "# 操作2：`transform`\n",
        "\n",
        "transform的作用为直接可以把聚合后的数据塞回原dataframe\n",
        "\n",
        "如果想将每个公司的`avg_salary`塞入到原df，不使用transform需要两步，用了transform只需要一步："
      ]
    },
    {
      "cell_type": "markdown",
      "metadata": {
        "id": "dF4Z9DWNGJzy"
      },
      "source": [
        "无transform：\n"
      ]
    },
    {
      "cell_type": "code",
      "metadata": {
        "colab": {
          "base_uri": "https://localhost:8080/",
          "height": 360
        },
        "id": "gCPwKzLUGR8T",
        "outputId": "12797544-1b3c-42ee-bbc3-fa3ee900b4cf"
      },
      "source": [
        "avg_salary_dict = data.groupby('company')['salary'].mean().to_dict()\n",
        "data['avg_salary'] = data['company'].map(avg_salary_dict)\n",
        "data"
      ],
      "execution_count": 199,
      "outputs": [
        {
          "output_type": "execute_result",
          "data": {
            "text/html": [
              "<div>\n",
              "<style scoped>\n",
              "    .dataframe tbody tr th:only-of-type {\n",
              "        vertical-align: middle;\n",
              "    }\n",
              "\n",
              "    .dataframe tbody tr th {\n",
              "        vertical-align: top;\n",
              "    }\n",
              "\n",
              "    .dataframe thead th {\n",
              "        text-align: right;\n",
              "    }\n",
              "</style>\n",
              "<table border=\"1\" class=\"dataframe\">\n",
              "  <thead>\n",
              "    <tr style=\"text-align: right;\">\n",
              "      <th></th>\n",
              "      <th>company</th>\n",
              "      <th>salary</th>\n",
              "      <th>age</th>\n",
              "      <th>avg_salary</th>\n",
              "    </tr>\n",
              "  </thead>\n",
              "  <tbody>\n",
              "    <tr>\n",
              "      <th>0</th>\n",
              "      <td>A</td>\n",
              "      <td>21</td>\n",
              "      <td>15</td>\n",
              "      <td>16.0</td>\n",
              "    </tr>\n",
              "    <tr>\n",
              "      <th>1</th>\n",
              "      <td>B</td>\n",
              "      <td>35</td>\n",
              "      <td>20</td>\n",
              "      <td>26.0</td>\n",
              "    </tr>\n",
              "    <tr>\n",
              "      <th>2</th>\n",
              "      <td>A</td>\n",
              "      <td>14</td>\n",
              "      <td>39</td>\n",
              "      <td>16.0</td>\n",
              "    </tr>\n",
              "    <tr>\n",
              "      <th>3</th>\n",
              "      <td>C</td>\n",
              "      <td>31</td>\n",
              "      <td>38</td>\n",
              "      <td>20.5</td>\n",
              "    </tr>\n",
              "    <tr>\n",
              "      <th>4</th>\n",
              "      <td>B</td>\n",
              "      <td>29</td>\n",
              "      <td>37</td>\n",
              "      <td>26.0</td>\n",
              "    </tr>\n",
              "    <tr>\n",
              "      <th>5</th>\n",
              "      <td>A</td>\n",
              "      <td>13</td>\n",
              "      <td>30</td>\n",
              "      <td>16.0</td>\n",
              "    </tr>\n",
              "    <tr>\n",
              "      <th>6</th>\n",
              "      <td>C</td>\n",
              "      <td>10</td>\n",
              "      <td>24</td>\n",
              "      <td>20.5</td>\n",
              "    </tr>\n",
              "    <tr>\n",
              "      <th>7</th>\n",
              "      <td>B</td>\n",
              "      <td>19</td>\n",
              "      <td>45</td>\n",
              "      <td>26.0</td>\n",
              "    </tr>\n",
              "    <tr>\n",
              "      <th>8</th>\n",
              "      <td>B</td>\n",
              "      <td>7</td>\n",
              "      <td>46</td>\n",
              "      <td>26.0</td>\n",
              "    </tr>\n",
              "    <tr>\n",
              "      <th>9</th>\n",
              "      <td>B</td>\n",
              "      <td>40</td>\n",
              "      <td>28</td>\n",
              "      <td>26.0</td>\n",
              "    </tr>\n",
              "  </tbody>\n",
              "</table>\n",
              "</div>"
            ],
            "text/plain": [
              "  company  salary  age  avg_salary\n",
              "0       A      21   15        16.0\n",
              "1       B      35   20        26.0\n",
              "2       A      14   39        16.0\n",
              "3       C      31   38        20.5\n",
              "4       B      29   37        26.0\n",
              "5       A      13   30        16.0\n",
              "6       C      10   24        20.5\n",
              "7       B      19   45        26.0\n",
              "8       B       7   46        26.0\n",
              "9       B      40   28        26.0"
            ]
          },
          "metadata": {
            "tags": []
          },
          "execution_count": 199
        }
      ]
    },
    {
      "cell_type": "markdown",
      "metadata": {
        "id": "gNe_Y13hGhRe"
      },
      "source": [
        "有transform："
      ]
    },
    {
      "cell_type": "code",
      "metadata": {
        "colab": {
          "base_uri": "https://localhost:8080/",
          "height": 360
        },
        "id": "vsIEan0B58Th",
        "outputId": "d41a6f02-bdac-4906-a2d8-ee33da3f8056"
      },
      "source": [
        "data['avg_salary'] = data.groupby('company')['salary'].transform('mean')\n",
        "data"
      ],
      "execution_count": 200,
      "outputs": [
        {
          "output_type": "execute_result",
          "data": {
            "text/html": [
              "<div>\n",
              "<style scoped>\n",
              "    .dataframe tbody tr th:only-of-type {\n",
              "        vertical-align: middle;\n",
              "    }\n",
              "\n",
              "    .dataframe tbody tr th {\n",
              "        vertical-align: top;\n",
              "    }\n",
              "\n",
              "    .dataframe thead th {\n",
              "        text-align: right;\n",
              "    }\n",
              "</style>\n",
              "<table border=\"1\" class=\"dataframe\">\n",
              "  <thead>\n",
              "    <tr style=\"text-align: right;\">\n",
              "      <th></th>\n",
              "      <th>company</th>\n",
              "      <th>salary</th>\n",
              "      <th>age</th>\n",
              "      <th>avg_salary</th>\n",
              "    </tr>\n",
              "  </thead>\n",
              "  <tbody>\n",
              "    <tr>\n",
              "      <th>0</th>\n",
              "      <td>A</td>\n",
              "      <td>21</td>\n",
              "      <td>15</td>\n",
              "      <td>16.0</td>\n",
              "    </tr>\n",
              "    <tr>\n",
              "      <th>1</th>\n",
              "      <td>B</td>\n",
              "      <td>35</td>\n",
              "      <td>20</td>\n",
              "      <td>26.0</td>\n",
              "    </tr>\n",
              "    <tr>\n",
              "      <th>2</th>\n",
              "      <td>A</td>\n",
              "      <td>14</td>\n",
              "      <td>39</td>\n",
              "      <td>16.0</td>\n",
              "    </tr>\n",
              "    <tr>\n",
              "      <th>3</th>\n",
              "      <td>C</td>\n",
              "      <td>31</td>\n",
              "      <td>38</td>\n",
              "      <td>20.5</td>\n",
              "    </tr>\n",
              "    <tr>\n",
              "      <th>4</th>\n",
              "      <td>B</td>\n",
              "      <td>29</td>\n",
              "      <td>37</td>\n",
              "      <td>26.0</td>\n",
              "    </tr>\n",
              "    <tr>\n",
              "      <th>5</th>\n",
              "      <td>A</td>\n",
              "      <td>13</td>\n",
              "      <td>30</td>\n",
              "      <td>16.0</td>\n",
              "    </tr>\n",
              "    <tr>\n",
              "      <th>6</th>\n",
              "      <td>C</td>\n",
              "      <td>10</td>\n",
              "      <td>24</td>\n",
              "      <td>20.5</td>\n",
              "    </tr>\n",
              "    <tr>\n",
              "      <th>7</th>\n",
              "      <td>B</td>\n",
              "      <td>19</td>\n",
              "      <td>45</td>\n",
              "      <td>26.0</td>\n",
              "    </tr>\n",
              "    <tr>\n",
              "      <th>8</th>\n",
              "      <td>B</td>\n",
              "      <td>7</td>\n",
              "      <td>46</td>\n",
              "      <td>26.0</td>\n",
              "    </tr>\n",
              "    <tr>\n",
              "      <th>9</th>\n",
              "      <td>B</td>\n",
              "      <td>40</td>\n",
              "      <td>28</td>\n",
              "      <td>26.0</td>\n",
              "    </tr>\n",
              "  </tbody>\n",
              "</table>\n",
              "</div>"
            ],
            "text/plain": [
              "  company  salary  age  avg_salary\n",
              "0       A      21   15        16.0\n",
              "1       B      35   20        26.0\n",
              "2       A      14   39        16.0\n",
              "3       C      31   38        20.5\n",
              "4       B      29   37        26.0\n",
              "5       A      13   30        16.0\n",
              "6       C      10   24        20.5\n",
              "7       B      19   45        26.0\n",
              "8       B       7   46        26.0\n",
              "9       B      40   28        26.0"
            ]
          },
          "metadata": {
            "tags": []
          },
          "execution_count": 200
        }
      ]
    },
    {
      "cell_type": "markdown",
      "metadata": {
        "id": "bjm7dYDdG2-5"
      },
      "source": [
        "![](https://pic1.zhimg.com/80/v2-47d83fb973be421545493e92dd0cf0d0_1440w.jpg)"
      ]
    },
    {
      "cell_type": "markdown",
      "metadata": {
        "id": "qcxhL4i1HAF2"
      },
      "source": [
        "图中的大方框是transform和agg所不一样的地方，对agg而言，会计算得到A，B，C公司对应的均值并直接返回，但对transform而言，则会对**每一条数据求得相应的结果，同一组内的样本会有相同的值**，组内求完均值后会**按照原索引的顺序**返回结果，如果有不理解的可以拿这张图和agg那张对比一下。"
      ]
    },
    {
      "cell_type": "markdown",
      "metadata": {
        "id": "d4Hqkal2HZxD"
      },
      "source": [
        "# 操作3：`apply`\n",
        "\n",
        "区别是有的，但是整个实现原理是基本一致的。两者的区别在于，对于groupby后的apply，以分组后的`subDataFrame`作为参数传入指定函数的，基本操作单位是`DataFrame`，而之前介绍的apply的基本操作单位是Series。\n",
        "\n",
        "apply灵活性巨大，因为`group-apply`的对象为**各个子dataframe**。\n",
        "\n",
        "假设我现在需要获取各个公司年龄最大的员工的数据，该怎么实现呢？可以用以下代码实现："
      ]
    },
    {
      "cell_type": "code",
      "metadata": {
        "id": "mgFGUwfhPeJv"
      },
      "source": [
        "company = [\"A\",\"B\",\"C\"]\n",
        "\n",
        "data = pd.DataFrame({\"company\":[company[x] for x in np.random.randint(0,len(company),10)],\n",
        "                   \"salary\":np.random.randint(5,50,10),\n",
        "                   \"age\":np.random.randint(15,50,10)})"
      ],
      "execution_count": 201,
      "outputs": []
    },
    {
      "cell_type": "code",
      "metadata": {
        "colab": {
          "base_uri": "https://localhost:8080/",
          "height": 360
        },
        "id": "RlTpAVMHKyBm",
        "outputId": "3d9d931e-ab07-42b3-af6c-fe50a40e115e"
      },
      "source": [
        "data"
      ],
      "execution_count": 202,
      "outputs": [
        {
          "output_type": "execute_result",
          "data": {
            "text/html": [
              "<div>\n",
              "<style scoped>\n",
              "    .dataframe tbody tr th:only-of-type {\n",
              "        vertical-align: middle;\n",
              "    }\n",
              "\n",
              "    .dataframe tbody tr th {\n",
              "        vertical-align: top;\n",
              "    }\n",
              "\n",
              "    .dataframe thead th {\n",
              "        text-align: right;\n",
              "    }\n",
              "</style>\n",
              "<table border=\"1\" class=\"dataframe\">\n",
              "  <thead>\n",
              "    <tr style=\"text-align: right;\">\n",
              "      <th></th>\n",
              "      <th>company</th>\n",
              "      <th>salary</th>\n",
              "      <th>age</th>\n",
              "    </tr>\n",
              "  </thead>\n",
              "  <tbody>\n",
              "    <tr>\n",
              "      <th>0</th>\n",
              "      <td>A</td>\n",
              "      <td>20</td>\n",
              "      <td>41</td>\n",
              "    </tr>\n",
              "    <tr>\n",
              "      <th>1</th>\n",
              "      <td>C</td>\n",
              "      <td>46</td>\n",
              "      <td>15</td>\n",
              "    </tr>\n",
              "    <tr>\n",
              "      <th>2</th>\n",
              "      <td>C</td>\n",
              "      <td>21</td>\n",
              "      <td>20</td>\n",
              "    </tr>\n",
              "    <tr>\n",
              "      <th>3</th>\n",
              "      <td>A</td>\n",
              "      <td>40</td>\n",
              "      <td>36</td>\n",
              "    </tr>\n",
              "    <tr>\n",
              "      <th>4</th>\n",
              "      <td>C</td>\n",
              "      <td>33</td>\n",
              "      <td>42</td>\n",
              "    </tr>\n",
              "    <tr>\n",
              "      <th>5</th>\n",
              "      <td>B</td>\n",
              "      <td>14</td>\n",
              "      <td>45</td>\n",
              "    </tr>\n",
              "    <tr>\n",
              "      <th>6</th>\n",
              "      <td>A</td>\n",
              "      <td>12</td>\n",
              "      <td>23</td>\n",
              "    </tr>\n",
              "    <tr>\n",
              "      <th>7</th>\n",
              "      <td>B</td>\n",
              "      <td>48</td>\n",
              "      <td>15</td>\n",
              "    </tr>\n",
              "    <tr>\n",
              "      <th>8</th>\n",
              "      <td>C</td>\n",
              "      <td>15</td>\n",
              "      <td>40</td>\n",
              "    </tr>\n",
              "    <tr>\n",
              "      <th>9</th>\n",
              "      <td>B</td>\n",
              "      <td>33</td>\n",
              "      <td>19</td>\n",
              "    </tr>\n",
              "  </tbody>\n",
              "</table>\n",
              "</div>"
            ],
            "text/plain": [
              "  company  salary  age\n",
              "0       A      20   41\n",
              "1       C      46   15\n",
              "2       C      21   20\n",
              "3       A      40   36\n",
              "4       C      33   42\n",
              "5       B      14   45\n",
              "6       A      12   23\n",
              "7       B      48   15\n",
              "8       C      15   40\n",
              "9       B      33   19"
            ]
          },
          "metadata": {
            "tags": []
          },
          "execution_count": 202
        }
      ]
    },
    {
      "cell_type": "code",
      "metadata": {
        "id": "PaqHyVN2GdWc"
      },
      "source": [
        "# 直接就是以df为输入\n",
        "\n",
        "def get_oldest_staff(x):\n",
        "  df = x.sort_values(by = 'age',ascending=True)\n",
        "  return df.iloc[-1,:]"
      ],
      "execution_count": 203,
      "outputs": []
    },
    {
      "cell_type": "code",
      "metadata": {
        "id": "QDc2nxjX58MY"
      },
      "source": [
        "oldest_staff = data.groupby('company',as_index=False).apply(get_oldest_staff)"
      ],
      "execution_count": 204,
      "outputs": []
    },
    {
      "cell_type": "code",
      "metadata": {
        "colab": {
          "base_uri": "https://localhost:8080/",
          "height": 142
        },
        "id": "PlVboymK575M",
        "outputId": "dd569208-31ea-49e6-931f-95a0932a28da"
      },
      "source": [
        "oldest_staff"
      ],
      "execution_count": 205,
      "outputs": [
        {
          "output_type": "execute_result",
          "data": {
            "text/html": [
              "<div>\n",
              "<style scoped>\n",
              "    .dataframe tbody tr th:only-of-type {\n",
              "        vertical-align: middle;\n",
              "    }\n",
              "\n",
              "    .dataframe tbody tr th {\n",
              "        vertical-align: top;\n",
              "    }\n",
              "\n",
              "    .dataframe thead th {\n",
              "        text-align: right;\n",
              "    }\n",
              "</style>\n",
              "<table border=\"1\" class=\"dataframe\">\n",
              "  <thead>\n",
              "    <tr style=\"text-align: right;\">\n",
              "      <th></th>\n",
              "      <th>company</th>\n",
              "      <th>salary</th>\n",
              "      <th>age</th>\n",
              "    </tr>\n",
              "  </thead>\n",
              "  <tbody>\n",
              "    <tr>\n",
              "      <th>0</th>\n",
              "      <td>A</td>\n",
              "      <td>20</td>\n",
              "      <td>41</td>\n",
              "    </tr>\n",
              "    <tr>\n",
              "      <th>1</th>\n",
              "      <td>B</td>\n",
              "      <td>14</td>\n",
              "      <td>45</td>\n",
              "    </tr>\n",
              "    <tr>\n",
              "      <th>2</th>\n",
              "      <td>C</td>\n",
              "      <td>33</td>\n",
              "      <td>42</td>\n",
              "    </tr>\n",
              "  </tbody>\n",
              "</table>\n",
              "</div>"
            ],
            "text/plain": [
              "  company  salary  age\n",
              "0       A      20   41\n",
              "1       B      14   45\n",
              "2       C      33   42"
            ]
          },
          "metadata": {
            "tags": []
          },
          "execution_count": 205
        }
      ]
    },
    {
      "cell_type": "markdown",
      "metadata": {
        "id": "506UTR7uSVQm"
      },
      "source": [
        "你也可以直接得到dataframe拍扁了的结果："
      ]
    },
    {
      "cell_type": "code",
      "metadata": {
        "colab": {
          "base_uri": "https://localhost:8080/"
        },
        "id": "gpx1HzFmSGEO",
        "outputId": "00c06fd5-9b04-4bfb-dd08-0cfd34a50aa8"
      },
      "source": [
        "data.groupby('company')['age'].apply(list)"
      ],
      "execution_count": 206,
      "outputs": [
        {
          "output_type": "execute_result",
          "data": {
            "text/plain": [
              "company\n",
              "A        [41, 36, 23]\n",
              "B        [45, 15, 19]\n",
              "C    [15, 20, 42, 40]\n",
              "Name: age, dtype: object"
            ]
          },
          "metadata": {
            "tags": []
          },
          "execution_count": 206
        }
      ]
    },
    {
      "cell_type": "markdown",
      "metadata": {
        "id": "eR9Wwf2zQZr0"
      },
      "source": [
        "当然你也可以直接apply+lambda，对所有subdf取最大值"
      ]
    },
    {
      "cell_type": "code",
      "metadata": {
        "colab": {
          "base_uri": "https://localhost:8080/",
          "height": 173
        },
        "id": "Nh2EtFguPQ4_",
        "outputId": "a64b4e26-9b98-4a2a-dc3d-16f0d87c664d"
      },
      "source": [
        "data.groupby('company').apply(lambda x: x.max())"
      ],
      "execution_count": 207,
      "outputs": [
        {
          "output_type": "execute_result",
          "data": {
            "text/html": [
              "<div>\n",
              "<style scoped>\n",
              "    .dataframe tbody tr th:only-of-type {\n",
              "        vertical-align: middle;\n",
              "    }\n",
              "\n",
              "    .dataframe tbody tr th {\n",
              "        vertical-align: top;\n",
              "    }\n",
              "\n",
              "    .dataframe thead th {\n",
              "        text-align: right;\n",
              "    }\n",
              "</style>\n",
              "<table border=\"1\" class=\"dataframe\">\n",
              "  <thead>\n",
              "    <tr style=\"text-align: right;\">\n",
              "      <th></th>\n",
              "      <th>company</th>\n",
              "      <th>salary</th>\n",
              "      <th>age</th>\n",
              "    </tr>\n",
              "    <tr>\n",
              "      <th>company</th>\n",
              "      <th></th>\n",
              "      <th></th>\n",
              "      <th></th>\n",
              "    </tr>\n",
              "  </thead>\n",
              "  <tbody>\n",
              "    <tr>\n",
              "      <th>A</th>\n",
              "      <td>A</td>\n",
              "      <td>40</td>\n",
              "      <td>41</td>\n",
              "    </tr>\n",
              "    <tr>\n",
              "      <th>B</th>\n",
              "      <td>B</td>\n",
              "      <td>48</td>\n",
              "      <td>45</td>\n",
              "    </tr>\n",
              "    <tr>\n",
              "      <th>C</th>\n",
              "      <td>C</td>\n",
              "      <td>46</td>\n",
              "      <td>42</td>\n",
              "    </tr>\n",
              "  </tbody>\n",
              "</table>\n",
              "</div>"
            ],
            "text/plain": [
              "        company  salary  age\n",
              "company                     \n",
              "A             A      40   41\n",
              "B             B      48   45\n",
              "C             C      46   42"
            ]
          },
          "metadata": {
            "tags": []
          },
          "execution_count": 207
        }
      ]
    },
    {
      "cell_type": "markdown",
      "metadata": {
        "id": "jo9cT22iQjN4"
      },
      "source": [
        "或者只是对subdf里面的`salary`取最大值"
      ]
    },
    {
      "cell_type": "code",
      "metadata": {
        "colab": {
          "base_uri": "https://localhost:8080/",
          "height": 173
        },
        "id": "9WS-DNZhQTZG",
        "outputId": "99e9d259-8737-421b-c1ae-a80f5a226547"
      },
      "source": [
        "data.groupby('company')[['salary']].apply(lambda x: x.max())"
      ],
      "execution_count": 208,
      "outputs": [
        {
          "output_type": "execute_result",
          "data": {
            "text/html": [
              "<div>\n",
              "<style scoped>\n",
              "    .dataframe tbody tr th:only-of-type {\n",
              "        vertical-align: middle;\n",
              "    }\n",
              "\n",
              "    .dataframe tbody tr th {\n",
              "        vertical-align: top;\n",
              "    }\n",
              "\n",
              "    .dataframe thead th {\n",
              "        text-align: right;\n",
              "    }\n",
              "</style>\n",
              "<table border=\"1\" class=\"dataframe\">\n",
              "  <thead>\n",
              "    <tr style=\"text-align: right;\">\n",
              "      <th></th>\n",
              "      <th>salary</th>\n",
              "    </tr>\n",
              "    <tr>\n",
              "      <th>company</th>\n",
              "      <th></th>\n",
              "    </tr>\n",
              "  </thead>\n",
              "  <tbody>\n",
              "    <tr>\n",
              "      <th>A</th>\n",
              "      <td>40</td>\n",
              "    </tr>\n",
              "    <tr>\n",
              "      <th>B</th>\n",
              "      <td>48</td>\n",
              "    </tr>\n",
              "    <tr>\n",
              "      <th>C</th>\n",
              "      <td>46</td>\n",
              "    </tr>\n",
              "  </tbody>\n",
              "</table>\n",
              "</div>"
            ],
            "text/plain": [
              "         salary\n",
              "company        \n",
              "A            40\n",
              "B            48\n",
              "C            46"
            ]
          },
          "metadata": {
            "tags": []
          },
          "execution_count": 208
        }
      ]
    },
    {
      "cell_type": "code",
      "metadata": {
        "colab": {
          "base_uri": "https://localhost:8080/",
          "height": 173
        },
        "id": "iwlft9iQRpr5",
        "outputId": "ed54a0d1-a31f-4761-fe99-a6990a5f1b07"
      },
      "source": [
        "data.groupby('company')[['salary']].max()"
      ],
      "execution_count": 209,
      "outputs": [
        {
          "output_type": "execute_result",
          "data": {
            "text/html": [
              "<div>\n",
              "<style scoped>\n",
              "    .dataframe tbody tr th:only-of-type {\n",
              "        vertical-align: middle;\n",
              "    }\n",
              "\n",
              "    .dataframe tbody tr th {\n",
              "        vertical-align: top;\n",
              "    }\n",
              "\n",
              "    .dataframe thead th {\n",
              "        text-align: right;\n",
              "    }\n",
              "</style>\n",
              "<table border=\"1\" class=\"dataframe\">\n",
              "  <thead>\n",
              "    <tr style=\"text-align: right;\">\n",
              "      <th></th>\n",
              "      <th>salary</th>\n",
              "    </tr>\n",
              "    <tr>\n",
              "      <th>company</th>\n",
              "      <th></th>\n",
              "    </tr>\n",
              "  </thead>\n",
              "  <tbody>\n",
              "    <tr>\n",
              "      <th>A</th>\n",
              "      <td>40</td>\n",
              "    </tr>\n",
              "    <tr>\n",
              "      <th>B</th>\n",
              "      <td>48</td>\n",
              "    </tr>\n",
              "    <tr>\n",
              "      <th>C</th>\n",
              "      <td>46</td>\n",
              "    </tr>\n",
              "  </tbody>\n",
              "</table>\n",
              "</div>"
            ],
            "text/plain": [
              "         salary\n",
              "company        \n",
              "A            40\n",
              "B            48\n",
              "C            46"
            ]
          },
          "metadata": {
            "tags": []
          },
          "execution_count": 209
        }
      ]
    },
    {
      "cell_type": "markdown",
      "metadata": {
        "id": "Zy8fB3UmI9YF"
      },
      "source": [
        "![](https://pic4.zhimg.com/80/v2-aee9b9bda947364719876e6ffb861813_1440w.jpg)\n",
        "\n",
        "可以看到，此处的apply和上篇文章中所介绍的作用原理基本一致，只是传入函数的参数由Series变为了此处的分组DataFrame。\n",
        "\n",
        "最后，关于apply的使用，这里有个小建议，虽然说apply拥有更大的灵活性，但apply的运行效率会比agg和transform更慢。所以，groupby之后能用agg和transform解决的问题还是优先使用这两个方法，实在解决不了了才考虑使用apply进行操作。"
      ]
    },
    {
      "cell_type": "code",
      "metadata": {
        "id": "gvaSOBVe573y"
      },
      "source": [
        ""
      ],
      "execution_count": 209,
      "outputs": []
    },
    {
      "cell_type": "code",
      "metadata": {
        "id": "-drru2kz57yD"
      },
      "source": [
        ""
      ],
      "execution_count": 209,
      "outputs": []
    },
    {
      "cell_type": "code",
      "metadata": {
        "id": "FQfrQClj57wl"
      },
      "source": [
        ""
      ],
      "execution_count": 209,
      "outputs": []
    },
    {
      "cell_type": "code",
      "metadata": {
        "id": "KaO9ASrO57r-"
      },
      "source": [
        ""
      ],
      "execution_count": 209,
      "outputs": []
    },
    {
      "cell_type": "code",
      "metadata": {
        "id": "eDwemRE957oG"
      },
      "source": [
        ""
      ],
      "execution_count": 209,
      "outputs": []
    },
    {
      "cell_type": "code",
      "metadata": {
        "id": "KsKLmDrZ57c-"
      },
      "source": [
        ""
      ],
      "execution_count": 209,
      "outputs": []
    },
    {
      "cell_type": "code",
      "metadata": {
        "id": "S0UHk_e94Shb"
      },
      "source": [
        ""
      ],
      "execution_count": 209,
      "outputs": []
    }
  ]
}