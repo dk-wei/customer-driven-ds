{
  "nbformat": 4,
  "nbformat_minor": 0,
  "metadata": {
    "colab": {
      "name": " RFM Analysis (Customer Segmentation).ipynb",
      "provenance": [],
      "toc_visible": true,
      "authorship_tag": "ABX9TyNsqMPjidt34AVjqqz8Mf0y",
      "include_colab_link": true
    },
    "kernelspec": {
      "name": "python3",
      "display_name": "Python 3"
    },
    "language_info": {
      "name": "python"
    }
  },
  "cells": [
    {
      "cell_type": "markdown",
      "metadata": {
        "id": "view-in-github",
        "colab_type": "text"
      },
      "source": [
        "<a href=\"https://colab.research.google.com/github/dk-wei/customer-driven-ds/blob/main/RFM_Analysis_(Customer_Segmentation).ipynb\" target=\"_parent\"><img src=\"https://colab.research.google.com/assets/colab-badge.svg\" alt=\"Open In Colab\"/></a>"
      ]
    },
    {
      "cell_type": "code",
      "metadata": {
        "colab": {
          "base_uri": "https://localhost:8080/"
        },
        "id": "0umzAlhYoxRL",
        "outputId": "579f1d55-c380-4ca7-82a7-1b9e550335cf"
      },
      "source": [
        "!pip install ipython-autotime\n",
        "%load_ext autotime\n",
        "\n",
        "import matplotlib as mpl\n",
        "import matplotlib.pyplot as plt\n",
        "%matplotlib inline\n",
        "\n",
        "import numpy as np\n",
        "import sklearn\n",
        "import pandas as pd\n",
        "import os\n",
        "import sys\n",
        "import time\n",
        "import tensorflow as tf\n",
        "import datetime as dt\n",
        "\n",
        "from tensorflow import keras\n",
        "%load_ext tensorboard\n",
        "\n",
        "print(tf.__version__)\n",
        "print(sys.version_info)\n",
        "for module in mpl, np, pd, sklearn, tf, keras:\n",
        "    print(module.__name__, module.__version__)"
      ],
      "execution_count": 64,
      "outputs": [
        {
          "output_type": "stream",
          "text": [
            "Requirement already satisfied: ipython-autotime in /usr/local/lib/python3.7/dist-packages (0.3.1)\n",
            "Requirement already satisfied: ipython in /usr/local/lib/python3.7/dist-packages (from ipython-autotime) (5.5.0)\n",
            "Requirement already satisfied: prompt-toolkit<2.0.0,>=1.0.4 in /usr/local/lib/python3.7/dist-packages (from ipython->ipython-autotime) (1.0.18)\n",
            "Requirement already satisfied: setuptools>=18.5 in /usr/local/lib/python3.7/dist-packages (from ipython->ipython-autotime) (57.2.0)\n",
            "Requirement already satisfied: simplegeneric>0.8 in /usr/local/lib/python3.7/dist-packages (from ipython->ipython-autotime) (0.8.1)\n",
            "Requirement already satisfied: pexpect in /usr/local/lib/python3.7/dist-packages (from ipython->ipython-autotime) (4.8.0)\n",
            "Requirement already satisfied: decorator in /usr/local/lib/python3.7/dist-packages (from ipython->ipython-autotime) (4.4.2)\n",
            "Requirement already satisfied: traitlets>=4.2 in /usr/local/lib/python3.7/dist-packages (from ipython->ipython-autotime) (5.0.5)\n",
            "Requirement already satisfied: pickleshare in /usr/local/lib/python3.7/dist-packages (from ipython->ipython-autotime) (0.7.5)\n",
            "Requirement already satisfied: pygments in /usr/local/lib/python3.7/dist-packages (from ipython->ipython-autotime) (2.6.1)\n",
            "Requirement already satisfied: wcwidth in /usr/local/lib/python3.7/dist-packages (from prompt-toolkit<2.0.0,>=1.0.4->ipython->ipython-autotime) (0.2.5)\n",
            "Requirement already satisfied: six>=1.9.0 in /usr/local/lib/python3.7/dist-packages (from prompt-toolkit<2.0.0,>=1.0.4->ipython->ipython-autotime) (1.15.0)\n",
            "Requirement already satisfied: ipython-genutils in /usr/local/lib/python3.7/dist-packages (from traitlets>=4.2->ipython->ipython-autotime) (0.2.0)\n",
            "Requirement already satisfied: ptyprocess>=0.5 in /usr/local/lib/python3.7/dist-packages (from pexpect->ipython->ipython-autotime) (0.7.0)\n",
            "The autotime extension is already loaded. To reload it, use:\n",
            "  %reload_ext autotime\n",
            "The tensorboard extension is already loaded. To reload it, use:\n",
            "  %reload_ext tensorboard\n",
            "2.5.0\n",
            "sys.version_info(major=3, minor=7, micro=11, releaselevel='final', serial=0)\n",
            "matplotlib 3.2.2\n",
            "numpy 1.19.5\n",
            "pandas 1.1.5\n",
            "sklearn 0.22.2.post1\n",
            "tensorflow 2.5.0\n",
            "tensorflow.keras 2.5.0\n",
            "time: 2.87 s (started: 2021-07-26 04:06:21 +00:00)\n"
          ],
          "name": "stdout"
        }
      ]
    },
    {
      "cell_type": "code",
      "metadata": {
        "colab": {
          "base_uri": "https://localhost:8080/"
        },
        "id": "jwo8Oqw4rfX_",
        "outputId": "8fc384d9-94b3-410a-bf56-fb02186bd8c3"
      },
      "source": [
        "# df_purchase = pd.read_csv('purchase data.csv')\n",
        "\n",
        "from google.colab import drive\n",
        "drive.mount('/content/drive')\n",
        "\n",
        "# Load the data, contained in the segmentation data csv file.\n",
        "GD_PATH = '/content/drive/MyDrive/扬FAANG起航/单项准备/customer analytics/'\n",
        "retail_df = pd.read_csv(GD_PATH+'E-Commerce Data.csv',encoding=\"ISO-8859-1\",dtype={'CustomerID': str,'InvoiceID': str})\n",
        "\n",
        "#load data\n",
        "#df_purchase = pd.read_csv(GD_PATH+'E-Commerce Data.csv')"
      ],
      "execution_count": 63,
      "outputs": [
        {
          "output_type": "stream",
          "text": [
            "Drive already mounted at /content/drive; to attempt to forcibly remount, call drive.mount(\"/content/drive\", force_remount=True).\n",
            "time: 795 ms (started: 2021-07-26 04:06:19 +00:00)\n"
          ],
          "name": "stdout"
        }
      ]
    },
    {
      "cell_type": "code",
      "metadata": {
        "colab": {
          "base_uri": "https://localhost:8080/",
          "height": 221
        },
        "id": "RUfIh_fBoy-4",
        "outputId": "44a2a86e-e4ca-4332-a694-010695b14a26"
      },
      "source": [
        "#load the dataset\n",
        "#retail_df = pd.read_csv('https://raw.githubusercontent.com/iyappan24/E-commerce-Data-Analysis-/master/Ecommerce%20Customers',encoding=\"ISO-8859-1\",dtype={'CustomerID': str,'InvoiceID': str})\n",
        "\n",
        "retail_df.head()\n"
      ],
      "execution_count": 65,
      "outputs": [
        {
          "output_type": "execute_result",
          "data": {
            "text/html": [
              "<div>\n",
              "<style scoped>\n",
              "    .dataframe tbody tr th:only-of-type {\n",
              "        vertical-align: middle;\n",
              "    }\n",
              "\n",
              "    .dataframe tbody tr th {\n",
              "        vertical-align: top;\n",
              "    }\n",
              "\n",
              "    .dataframe thead th {\n",
              "        text-align: right;\n",
              "    }\n",
              "</style>\n",
              "<table border=\"1\" class=\"dataframe\">\n",
              "  <thead>\n",
              "    <tr style=\"text-align: right;\">\n",
              "      <th></th>\n",
              "      <th>InvoiceNo</th>\n",
              "      <th>StockCode</th>\n",
              "      <th>Description</th>\n",
              "      <th>Quantity</th>\n",
              "      <th>InvoiceDate</th>\n",
              "      <th>UnitPrice</th>\n",
              "      <th>CustomerID</th>\n",
              "      <th>Country</th>\n",
              "    </tr>\n",
              "  </thead>\n",
              "  <tbody>\n",
              "    <tr>\n",
              "      <th>0</th>\n",
              "      <td>536365</td>\n",
              "      <td>85123A</td>\n",
              "      <td>WHITE HANGING HEART T-LIGHT HOLDER</td>\n",
              "      <td>6</td>\n",
              "      <td>12/1/2010 8:26</td>\n",
              "      <td>2.55</td>\n",
              "      <td>17850</td>\n",
              "      <td>United Kingdom</td>\n",
              "    </tr>\n",
              "    <tr>\n",
              "      <th>1</th>\n",
              "      <td>536365</td>\n",
              "      <td>71053</td>\n",
              "      <td>WHITE METAL LANTERN</td>\n",
              "      <td>6</td>\n",
              "      <td>12/1/2010 8:26</td>\n",
              "      <td>3.39</td>\n",
              "      <td>17850</td>\n",
              "      <td>United Kingdom</td>\n",
              "    </tr>\n",
              "    <tr>\n",
              "      <th>2</th>\n",
              "      <td>536365</td>\n",
              "      <td>84406B</td>\n",
              "      <td>CREAM CUPID HEARTS COAT HANGER</td>\n",
              "      <td>8</td>\n",
              "      <td>12/1/2010 8:26</td>\n",
              "      <td>2.75</td>\n",
              "      <td>17850</td>\n",
              "      <td>United Kingdom</td>\n",
              "    </tr>\n",
              "    <tr>\n",
              "      <th>3</th>\n",
              "      <td>536365</td>\n",
              "      <td>84029G</td>\n",
              "      <td>KNITTED UNION FLAG HOT WATER BOTTLE</td>\n",
              "      <td>6</td>\n",
              "      <td>12/1/2010 8:26</td>\n",
              "      <td>3.39</td>\n",
              "      <td>17850</td>\n",
              "      <td>United Kingdom</td>\n",
              "    </tr>\n",
              "    <tr>\n",
              "      <th>4</th>\n",
              "      <td>536365</td>\n",
              "      <td>84029E</td>\n",
              "      <td>RED WOOLLY HOTTIE WHITE HEART.</td>\n",
              "      <td>6</td>\n",
              "      <td>12/1/2010 8:26</td>\n",
              "      <td>3.39</td>\n",
              "      <td>17850</td>\n",
              "      <td>United Kingdom</td>\n",
              "    </tr>\n",
              "  </tbody>\n",
              "</table>\n",
              "</div>"
            ],
            "text/plain": [
              "  InvoiceNo StockCode  ... CustomerID         Country\n",
              "0    536365    85123A  ...      17850  United Kingdom\n",
              "1    536365     71053  ...      17850  United Kingdom\n",
              "2    536365    84406B  ...      17850  United Kingdom\n",
              "3    536365    84029G  ...      17850  United Kingdom\n",
              "4    536365    84029E  ...      17850  United Kingdom\n",
              "\n",
              "[5 rows x 8 columns]"
            ]
          },
          "metadata": {
            "tags": []
          },
          "execution_count": 65
        },
        {
          "output_type": "stream",
          "text": [
            "time: 27 ms (started: 2021-07-26 04:06:24 +00:00)\n"
          ],
          "name": "stdout"
        }
      ]
    },
    {
      "cell_type": "markdown",
      "metadata": {
        "id": "TJ4w7fiixlhp"
      },
      "source": [
        "# Prepare the Data\n",
        "\n",
        "As customer clusters may vary by geography, I’ll restrict the data to only United Kingdom customers, which contains most of our customers historical data."
      ]
    },
    {
      "cell_type": "code",
      "metadata": {
        "colab": {
          "base_uri": "https://localhost:8080/"
        },
        "id": "rWkpuKqDoy6H",
        "outputId": "65a3b914-a8e6-4e9c-9ce0-6dd0ba217446"
      },
      "source": [
        "retail_uk = retail_df[retail_df['Country']=='United Kingdom']\n",
        "#check the shape\n",
        "retail_uk.shape"
      ],
      "execution_count": 66,
      "outputs": [
        {
          "output_type": "execute_result",
          "data": {
            "text/plain": [
              "(495478, 8)"
            ]
          },
          "metadata": {
            "tags": []
          },
          "execution_count": 66
        },
        {
          "output_type": "stream",
          "text": [
            "time: 85.2 ms (started: 2021-07-26 04:06:24 +00:00)\n"
          ],
          "name": "stdout"
        }
      ]
    },
    {
      "cell_type": "code",
      "metadata": {
        "colab": {
          "base_uri": "https://localhost:8080/"
        },
        "id": "gxOQDM27sP0o",
        "outputId": "404fb617-6f22-4fbf-bb82-69f252712d2b"
      },
      "source": [
        "#remove canceled orders\n",
        "retail_uk = retail_uk[retail_uk['Quantity']>0]\n",
        "retail_uk.shape"
      ],
      "execution_count": 67,
      "outputs": [
        {
          "output_type": "execute_result",
          "data": {
            "text/plain": [
              "(486286, 8)"
            ]
          },
          "metadata": {
            "tags": []
          },
          "execution_count": 67
        },
        {
          "output_type": "stream",
          "text": [
            "time: 61.6 ms (started: 2021-07-26 04:06:24 +00:00)\n"
          ],
          "name": "stdout"
        }
      ]
    },
    {
      "cell_type": "code",
      "metadata": {
        "colab": {
          "base_uri": "https://localhost:8080/"
        },
        "id": "G16NgRnlsPxF",
        "outputId": "4a288b39-4448-410c-b85b-88957a21fce4"
      },
      "source": [
        "#remove rows where customerID are NA\n",
        "retail_uk.dropna(subset=['CustomerID'],how='all',inplace=True)\n",
        "retail_uk.shape"
      ],
      "execution_count": 68,
      "outputs": [
        {
          "output_type": "execute_result",
          "data": {
            "text/plain": [
              "(354345, 8)"
            ]
          },
          "metadata": {
            "tags": []
          },
          "execution_count": 68
        },
        {
          "output_type": "stream",
          "text": [
            "time: 67.4 ms (started: 2021-07-26 04:06:24 +00:00)\n"
          ],
          "name": "stdout"
        }
      ]
    },
    {
      "cell_type": "code",
      "metadata": {
        "colab": {
          "base_uri": "https://localhost:8080/"
        },
        "id": "Yx-5Y4RWsPrP",
        "outputId": "3d64afe9-8450-4892-a33d-91f9cd08a511"
      },
      "source": [
        "#restrict the data to one full year because it's better to use a metric per Months or Years in RFM\n",
        "retail_uk = retail_uk[retail_uk['InvoiceDate']>= \"2010-12-09\"]\n",
        "retail_uk.shape"
      ],
      "execution_count": 69,
      "outputs": [
        {
          "output_type": "execute_result",
          "data": {
            "text/plain": [
              "(176137, 8)"
            ]
          },
          "metadata": {
            "tags": []
          },
          "execution_count": 69
        },
        {
          "output_type": "stream",
          "text": [
            "time: 47.2 ms (started: 2021-07-26 04:06:24 +00:00)\n"
          ],
          "name": "stdout"
        }
      ]
    },
    {
      "cell_type": "code",
      "metadata": {
        "colab": {
          "base_uri": "https://localhost:8080/"
        },
        "id": "e4xsZ5RCsPlq",
        "outputId": "b1258652-6d00-4cda-97cf-2cc4891b7a56"
      },
      "source": [
        "print(\"Summary..\")\n",
        "#exploring the unique values of each attribute\n",
        "print(\"Number of transactions: \", retail_uk['InvoiceNo'].nunique())\n",
        "print(\"Number of products bought: \",retail_uk['StockCode'].nunique())\n",
        "print(\"Number of customers:\", retail_uk['CustomerID'].nunique() )\n",
        "print(\"Percentage of customers NA: \", round(retail_uk['CustomerID'].isnull().sum() * 100 / len(retail_df),2),\"%\" )"
      ],
      "execution_count": 70,
      "outputs": [
        {
          "output_type": "stream",
          "text": [
            "Summary..\n",
            "Number of transactions:  8789\n",
            "Number of products bought:  3294\n",
            "Number of customers: 2864\n",
            "Percentage of customers NA:  0.0 %\n",
            "time: 45.2 ms (started: 2021-07-26 04:06:24 +00:00)\n"
          ],
          "name": "stdout"
        }
      ]
    },
    {
      "cell_type": "markdown",
      "metadata": {
        "id": "Mu8AJaQDx7oj"
      },
      "source": [
        "# RFM Analysis\n",
        "\n",
        "在一些营销场景下，对不同客户给予相同的对待或策略有时不太合适 (类似于price discrimination)，所以我们根据用户数据，分析用户行为和消费倾向，进行用户画像 (user profiling)，并打上相应的标签应用于不同厂家。将客户分成不同特性的组，用**有限的公司资源优先服务于公司最重要的客户**，客户与我们的粘性将会更高，并与双方建立忠诚的合作关系。\n",
        "\n",
        "RFM (Recency, Frequency, Monetary) analysis is a customer segmentation technique that uses past purchase behavior to divide customers into groups. RFM helps divide customers into various categories or clusters to identify customers who are more likely to respond to promotions and also for future personalization services.\n",
        "\n",
        "我们主要参看一年的数据\n",
        "\n",
        "- `RECENCY (R)`: Days since last purchase (上次购买是多少周之前)\n",
        "- `FREQUENCY (F)`: Total number of purchases (一年中购买的周数/52周)\n",
        "- `MONETARY VALUE (M)`: Total money this customer spent last year (去年一年消费的总金额)\n",
        "\n",
        "We will create those 3 customer attributes for each customer\n",
        "\n",
        "![](http://image.woshipm.com/wp-files/2020/04/qvYutFYaLtunTWhBOHdQ.jpg)\n",
        "\n"
      ]
    },
    {
      "cell_type": "markdown",
      "metadata": {
        "id": "gNHYUiecI5mN"
      },
      "source": [
        "## Recency\n",
        "\n",
        "To calculate recency, we need to choose a date point from which we evaluate how many days ago was the customer's last purchase.\n",
        "\n",
        "我们一般认为认为**用户的最近一次消费行为离今日越近，他当前的活跃度将会更高，价值也会更高，回购的可能性越大，我们越容易维系与其的关系。**。\n",
        "\n",
        "因为数据集对应的是`TO_B`的业务，所以我们此处定义用户如果在**周内有消费行为且销售额大于最低阈值**，该用户被标记为该周活跃。\n",
        "\n",
        "我们可以分为四个组，分组表现如下：    \n",
        "![](http://image.woshipm.com/wp-files/2020/04/MY6vbyRd0dUgT4hiUSZ7.jpg)\n",
        "\n",
        "**我们应该同时做一下customer_share vs sales devode的比较。**\n",
        "\n",
        "一些insights：\n",
        "1. 超过85%的用户在最近半年至少消费一次。\n",
        "\n",
        "2. 用户最近一次消费在距今1~4周的用户数量占比为10%，但提供了将近50%的销售额。\n",
        "\n",
        "3. 最近一次购买距今超过9个月的用户几乎不产生消费。\n",
        "\n",
        "这表示Recent_C组的用户已经很有可能将要离开或者已经离开我们了。当然他们有被激活的机会，但是也许不应该花费过多，**因为这个群组客户的投资汇报（ROI）可能相对较低**，也就是说不同的两个组，投入相同的有效资源，高ROI的群组召回的话，大概率会产生更高的回报。\n",
        "\n"
      ]
    },
    {
      "cell_type": "code",
      "metadata": {
        "colab": {
          "base_uri": "https://localhost:8080/",
          "height": 35
        },
        "id": "6taTpU-YsPjI",
        "outputId": "49f7658d-444a-4f34-b433-e69f4c04ad53"
      },
      "source": [
        "#last date available in our dataset\n",
        "retail_uk['InvoiceDate'].max()"
      ],
      "execution_count": 71,
      "outputs": [
        {
          "output_type": "execute_result",
          "data": {
            "application/vnd.google.colaboratory.intrinsic+json": {
              "type": "string"
            },
            "text/plain": [
              "'9/9/2011 9:52'"
            ]
          },
          "metadata": {
            "tags": []
          },
          "execution_count": 71
        },
        {
          "output_type": "stream",
          "text": [
            "time: 24.3 ms (started: 2021-07-26 04:06:24 +00:00)\n"
          ],
          "name": "stdout"
        }
      ]
    },
    {
      "cell_type": "code",
      "metadata": {
        "colab": {
          "base_uri": "https://localhost:8080/"
        },
        "id": "RPSf0dTQsPhn",
        "outputId": "0fe69d4d-e1c5-4001-c2c8-36f966c04051"
      },
      "source": [
        "#create a new column called date which contains the date of invoice only\n",
        "retail_uk['date'] = pd.DatetimeIndex(retail_uk['InvoiceDate']).date"
      ],
      "execution_count": 72,
      "outputs": [
        {
          "output_type": "stream",
          "text": [
            "time: 16.8 s (started: 2021-07-26 04:06:24 +00:00)\n"
          ],
          "name": "stdout"
        }
      ]
    },
    {
      "cell_type": "code",
      "metadata": {
        "colab": {
          "base_uri": "https://localhost:8080/",
          "height": 221
        },
        "id": "VIarRUkpsPeF",
        "outputId": "e1f0a2a1-ef51-4880-b473-27e408c1b4b8"
      },
      "source": [
        "retail_uk.head()"
      ],
      "execution_count": 73,
      "outputs": [
        {
          "output_type": "execute_result",
          "data": {
            "text/html": [
              "<div>\n",
              "<style scoped>\n",
              "    .dataframe tbody tr th:only-of-type {\n",
              "        vertical-align: middle;\n",
              "    }\n",
              "\n",
              "    .dataframe tbody tr th {\n",
              "        vertical-align: top;\n",
              "    }\n",
              "\n",
              "    .dataframe thead th {\n",
              "        text-align: right;\n",
              "    }\n",
              "</style>\n",
              "<table border=\"1\" class=\"dataframe\">\n",
              "  <thead>\n",
              "    <tr style=\"text-align: right;\">\n",
              "      <th></th>\n",
              "      <th>InvoiceNo</th>\n",
              "      <th>StockCode</th>\n",
              "      <th>Description</th>\n",
              "      <th>Quantity</th>\n",
              "      <th>InvoiceDate</th>\n",
              "      <th>UnitPrice</th>\n",
              "      <th>CustomerID</th>\n",
              "      <th>Country</th>\n",
              "      <th>date</th>\n",
              "    </tr>\n",
              "  </thead>\n",
              "  <tbody>\n",
              "    <tr>\n",
              "      <th>105335</th>\n",
              "      <td>545220</td>\n",
              "      <td>21955</td>\n",
              "      <td>DOORMAT UNION JACK GUNS AND ROSES</td>\n",
              "      <td>2</td>\n",
              "      <td>3/1/2011 8:30</td>\n",
              "      <td>7.95</td>\n",
              "      <td>14620</td>\n",
              "      <td>United Kingdom</td>\n",
              "      <td>2011-03-01</td>\n",
              "    </tr>\n",
              "    <tr>\n",
              "      <th>105336</th>\n",
              "      <td>545220</td>\n",
              "      <td>48194</td>\n",
              "      <td>DOORMAT HEARTS</td>\n",
              "      <td>2</td>\n",
              "      <td>3/1/2011 8:30</td>\n",
              "      <td>7.95</td>\n",
              "      <td>14620</td>\n",
              "      <td>United Kingdom</td>\n",
              "      <td>2011-03-01</td>\n",
              "    </tr>\n",
              "    <tr>\n",
              "      <th>105337</th>\n",
              "      <td>545220</td>\n",
              "      <td>22556</td>\n",
              "      <td>PLASTERS IN TIN CIRCUS PARADE</td>\n",
              "      <td>12</td>\n",
              "      <td>3/1/2011 8:30</td>\n",
              "      <td>1.65</td>\n",
              "      <td>14620</td>\n",
              "      <td>United Kingdom</td>\n",
              "      <td>2011-03-01</td>\n",
              "    </tr>\n",
              "    <tr>\n",
              "      <th>105338</th>\n",
              "      <td>545220</td>\n",
              "      <td>22139</td>\n",
              "      <td>RETROSPOT TEA SET CERAMIC 11 PC</td>\n",
              "      <td>3</td>\n",
              "      <td>3/1/2011 8:30</td>\n",
              "      <td>4.95</td>\n",
              "      <td>14620</td>\n",
              "      <td>United Kingdom</td>\n",
              "      <td>2011-03-01</td>\n",
              "    </tr>\n",
              "    <tr>\n",
              "      <th>105339</th>\n",
              "      <td>545220</td>\n",
              "      <td>84029G</td>\n",
              "      <td>KNITTED UNION FLAG HOT WATER BOTTLE</td>\n",
              "      <td>4</td>\n",
              "      <td>3/1/2011 8:30</td>\n",
              "      <td>3.75</td>\n",
              "      <td>14620</td>\n",
              "      <td>United Kingdom</td>\n",
              "      <td>2011-03-01</td>\n",
              "    </tr>\n",
              "  </tbody>\n",
              "</table>\n",
              "</div>"
            ],
            "text/plain": [
              "       InvoiceNo StockCode  ...         Country        date\n",
              "105335    545220     21955  ...  United Kingdom  2011-03-01\n",
              "105336    545220     48194  ...  United Kingdom  2011-03-01\n",
              "105337    545220     22556  ...  United Kingdom  2011-03-01\n",
              "105338    545220     22139  ...  United Kingdom  2011-03-01\n",
              "105339    545220    84029G  ...  United Kingdom  2011-03-01\n",
              "\n",
              "[5 rows x 9 columns]"
            ]
          },
          "metadata": {
            "tags": []
          },
          "execution_count": 73
        },
        {
          "output_type": "stream",
          "text": [
            "time: 30 ms (started: 2021-07-26 04:06:41 +00:00)\n"
          ],
          "name": "stdout"
        }
      ]
    },
    {
      "cell_type": "code",
      "metadata": {
        "colab": {
          "base_uri": "https://localhost:8080/",
          "height": 221
        },
        "id": "WC7Ijp5JsPb-",
        "outputId": "2caeee72-31cc-4511-a0a1-dfb2715365fe"
      },
      "source": [
        "#group by customers and check last date of purshace\n",
        "recency_df = retail_uk.groupby(by='CustomerID', as_index=False)['date'].max()\n",
        "recency_df.columns = ['CustomerID','LastPurshaceDate']\n",
        "recency_df.head()"
      ],
      "execution_count": 74,
      "outputs": [
        {
          "output_type": "execute_result",
          "data": {
            "text/html": [
              "<div>\n",
              "<style scoped>\n",
              "    .dataframe tbody tr th:only-of-type {\n",
              "        vertical-align: middle;\n",
              "    }\n",
              "\n",
              "    .dataframe tbody tr th {\n",
              "        vertical-align: top;\n",
              "    }\n",
              "\n",
              "    .dataframe thead th {\n",
              "        text-align: right;\n",
              "    }\n",
              "</style>\n",
              "<table border=\"1\" class=\"dataframe\">\n",
              "  <thead>\n",
              "    <tr style=\"text-align: right;\">\n",
              "      <th></th>\n",
              "      <th>CustomerID</th>\n",
              "      <th>LastPurshaceDate</th>\n",
              "    </tr>\n",
              "  </thead>\n",
              "  <tbody>\n",
              "    <tr>\n",
              "      <th>0</th>\n",
              "      <td>12747</td>\n",
              "      <td>2011-08-22</td>\n",
              "    </tr>\n",
              "    <tr>\n",
              "      <th>1</th>\n",
              "      <td>12748</td>\n",
              "      <td>2011-09-30</td>\n",
              "    </tr>\n",
              "    <tr>\n",
              "      <th>2</th>\n",
              "      <td>12749</td>\n",
              "      <td>2011-08-01</td>\n",
              "    </tr>\n",
              "    <tr>\n",
              "      <th>3</th>\n",
              "      <td>12820</td>\n",
              "      <td>2011-09-26</td>\n",
              "    </tr>\n",
              "    <tr>\n",
              "      <th>4</th>\n",
              "      <td>12821</td>\n",
              "      <td>2011-05-09</td>\n",
              "    </tr>\n",
              "  </tbody>\n",
              "</table>\n",
              "</div>"
            ],
            "text/plain": [
              "  CustomerID LastPurshaceDate\n",
              "0      12747       2011-08-22\n",
              "1      12748       2011-09-30\n",
              "2      12749       2011-08-01\n",
              "3      12820       2011-09-26\n",
              "4      12821       2011-05-09"
            ]
          },
          "metadata": {
            "tags": []
          },
          "execution_count": 74
        },
        {
          "output_type": "stream",
          "text": [
            "time: 531 ms (started: 2021-07-26 04:06:41 +00:00)\n"
          ],
          "name": "stdout"
        }
      ]
    },
    {
      "cell_type": "code",
      "metadata": {
        "colab": {
          "base_uri": "https://localhost:8080/"
        },
        "id": "VOnGsHfgs77L",
        "outputId": "b16b1ca6-3918-4a12-b483-64bf3727f221"
      },
      "source": [
        "now = dt.date(2011,12,9)\n",
        "print(now)\n"
      ],
      "execution_count": 75,
      "outputs": [
        {
          "output_type": "stream",
          "text": [
            "2011-12-09\n",
            "time: 1.04 ms (started: 2021-07-26 04:06:42 +00:00)\n"
          ],
          "name": "stdout"
        }
      ]
    },
    {
      "cell_type": "code",
      "metadata": {
        "colab": {
          "base_uri": "https://localhost:8080/"
        },
        "id": "b-1zgZRXsPW4",
        "outputId": "c1d2fd77-0bfe-4e74-9ced-937bd97b2f7b"
      },
      "source": [
        "#calculate recency\n",
        "recency_df['Recency'] = recency_df['LastPurshaceDate'].apply(lambda x: (now - x).days)"
      ],
      "execution_count": 76,
      "outputs": [
        {
          "output_type": "stream",
          "text": [
            "time: 7.57 ms (started: 2021-07-26 04:06:42 +00:00)\n"
          ],
          "name": "stdout"
        }
      ]
    },
    {
      "cell_type": "code",
      "metadata": {
        "colab": {
          "base_uri": "https://localhost:8080/",
          "height": 221
        },
        "id": "JW28w8H6sPUg",
        "outputId": "83b29ab2-9297-4d7d-fcc3-49177a066b73"
      },
      "source": [
        "recency_df.head()"
      ],
      "execution_count": 77,
      "outputs": [
        {
          "output_type": "execute_result",
          "data": {
            "text/html": [
              "<div>\n",
              "<style scoped>\n",
              "    .dataframe tbody tr th:only-of-type {\n",
              "        vertical-align: middle;\n",
              "    }\n",
              "\n",
              "    .dataframe tbody tr th {\n",
              "        vertical-align: top;\n",
              "    }\n",
              "\n",
              "    .dataframe thead th {\n",
              "        text-align: right;\n",
              "    }\n",
              "</style>\n",
              "<table border=\"1\" class=\"dataframe\">\n",
              "  <thead>\n",
              "    <tr style=\"text-align: right;\">\n",
              "      <th></th>\n",
              "      <th>CustomerID</th>\n",
              "      <th>LastPurshaceDate</th>\n",
              "      <th>Recency</th>\n",
              "    </tr>\n",
              "  </thead>\n",
              "  <tbody>\n",
              "    <tr>\n",
              "      <th>0</th>\n",
              "      <td>12747</td>\n",
              "      <td>2011-08-22</td>\n",
              "      <td>109</td>\n",
              "    </tr>\n",
              "    <tr>\n",
              "      <th>1</th>\n",
              "      <td>12748</td>\n",
              "      <td>2011-09-30</td>\n",
              "      <td>70</td>\n",
              "    </tr>\n",
              "    <tr>\n",
              "      <th>2</th>\n",
              "      <td>12749</td>\n",
              "      <td>2011-08-01</td>\n",
              "      <td>130</td>\n",
              "    </tr>\n",
              "    <tr>\n",
              "      <th>3</th>\n",
              "      <td>12820</td>\n",
              "      <td>2011-09-26</td>\n",
              "      <td>74</td>\n",
              "    </tr>\n",
              "    <tr>\n",
              "      <th>4</th>\n",
              "      <td>12821</td>\n",
              "      <td>2011-05-09</td>\n",
              "      <td>214</td>\n",
              "    </tr>\n",
              "  </tbody>\n",
              "</table>\n",
              "</div>"
            ],
            "text/plain": [
              "  CustomerID LastPurshaceDate  Recency\n",
              "0      12747       2011-08-22      109\n",
              "1      12748       2011-09-30       70\n",
              "2      12749       2011-08-01      130\n",
              "3      12820       2011-09-26       74\n",
              "4      12821       2011-05-09      214"
            ]
          },
          "metadata": {
            "tags": []
          },
          "execution_count": 77
        },
        {
          "output_type": "stream",
          "text": [
            "time: 18.6 ms (started: 2021-07-26 04:06:42 +00:00)\n"
          ],
          "name": "stdout"
        }
      ]
    },
    {
      "cell_type": "code",
      "metadata": {
        "colab": {
          "base_uri": "https://localhost:8080/"
        },
        "id": "e4TnOuNZsPRY",
        "outputId": "02a1d385-a1e9-41f4-b770-8921068d8adb"
      },
      "source": [
        "#drop LastPurchaseDate as we don't need it anymore\n",
        "recency_df.drop('LastPurshaceDate',axis=1,inplace=True)"
      ],
      "execution_count": 78,
      "outputs": [
        {
          "output_type": "stream",
          "text": [
            "time: 3.97 ms (started: 2021-07-26 04:06:42 +00:00)\n"
          ],
          "name": "stdout"
        }
      ]
    },
    {
      "cell_type": "markdown",
      "metadata": {
        "id": "w1pyjimnyHol"
      },
      "source": [
        "## Frequency\n",
        "\n",
        "Frequency helps us to know how many times a customer purchased from us. To do that we need to check how many invoices are registered by the same customer.\n",
        "\n",
        "用户在一段时间内的购买的频次。如果用户有任何购买行为，并且订单金额超过一个基础阈值，他们这周就会被标记为活跃用户。我们认为用户的购买行为越频繁，他就会有更高的活跃度和交易价值。\n",
        "\n",
        "![](http://image.woshipm.com/wp-files/2020/04/uje7ZTkbdh3RurY82U1X.jpg)\n",
        "\n",
        "很明显，Fre_S级组别用户最有价值，购买非常高频率。他们这个组以10%的数量占比贡献了45%的销售额。"
      ]
    },
    {
      "cell_type": "code",
      "metadata": {
        "colab": {
          "base_uri": "https://localhost:8080/",
          "height": 221
        },
        "id": "0S2LqkJrsPLs",
        "outputId": "6ac29953-c140-438a-de81-ca2a34be56de"
      },
      "source": [
        "# drop duplicates\n",
        "retail_uk_copy = retail_uk\n",
        "retail_uk_copy.drop_duplicates(subset=['InvoiceNo', 'CustomerID'], keep=\"first\", inplace=True)\n",
        "#calculate frequency of purchases\n",
        "frequency_df = retail_uk_copy.groupby(by=['CustomerID'], as_index=False)['InvoiceNo'].count()\n",
        "frequency_df.columns = ['CustomerID','Frequency']\n",
        "frequency_df.head()"
      ],
      "execution_count": 79,
      "outputs": [
        {
          "output_type": "execute_result",
          "data": {
            "text/html": [
              "<div>\n",
              "<style scoped>\n",
              "    .dataframe tbody tr th:only-of-type {\n",
              "        vertical-align: middle;\n",
              "    }\n",
              "\n",
              "    .dataframe tbody tr th {\n",
              "        vertical-align: top;\n",
              "    }\n",
              "\n",
              "    .dataframe thead th {\n",
              "        text-align: right;\n",
              "    }\n",
              "</style>\n",
              "<table border=\"1\" class=\"dataframe\">\n",
              "  <thead>\n",
              "    <tr style=\"text-align: right;\">\n",
              "      <th></th>\n",
              "      <th>CustomerID</th>\n",
              "      <th>Frequency</th>\n",
              "    </tr>\n",
              "  </thead>\n",
              "  <tbody>\n",
              "    <tr>\n",
              "      <th>0</th>\n",
              "      <td>12747</td>\n",
              "      <td>5</td>\n",
              "    </tr>\n",
              "    <tr>\n",
              "      <th>1</th>\n",
              "      <td>12748</td>\n",
              "      <td>96</td>\n",
              "    </tr>\n",
              "    <tr>\n",
              "      <th>2</th>\n",
              "      <td>12749</td>\n",
              "      <td>3</td>\n",
              "    </tr>\n",
              "    <tr>\n",
              "      <th>3</th>\n",
              "      <td>12820</td>\n",
              "      <td>1</td>\n",
              "    </tr>\n",
              "    <tr>\n",
              "      <th>4</th>\n",
              "      <td>12821</td>\n",
              "      <td>1</td>\n",
              "    </tr>\n",
              "  </tbody>\n",
              "</table>\n",
              "</div>"
            ],
            "text/plain": [
              "  CustomerID  Frequency\n",
              "0      12747          5\n",
              "1      12748         96\n",
              "2      12749          3\n",
              "3      12820          1\n",
              "4      12821          1"
            ]
          },
          "metadata": {
            "tags": []
          },
          "execution_count": 79
        },
        {
          "output_type": "stream",
          "text": [
            "time: 56.7 ms (started: 2021-07-26 04:06:42 +00:00)\n"
          ],
          "name": "stdout"
        }
      ]
    },
    {
      "cell_type": "markdown",
      "metadata": {
        "id": "HQSCcu-yyXtK"
      },
      "source": [
        "## Monetary\n",
        "\n",
        "Monetary attribute answers the question: How much money did the customer spent over time?\n",
        "\n",
        "To do that, first, we will create a new column total cost to have the total price per invoice.\n",
        "\n",
        "用户在一段时间内消费的总金额。消费金额一直是商业中的核心指标。这边可以根据需求差异使用销售额，实际毛利等。\n",
        "\n",
        "![](http://image.woshipm.com/wp-files/2020/04/Wa8VqAa29nCCL79VArfm.jpg)\n",
        "\n",
        "一些insights：\n",
        "1. 前10%的用户贡献了差不多70%的销售额\n",
        "2. 后40%的用户人数众多，但是几乎不提供任何消费收益。\n",
        "\n",
        "而Money_S组客户只占总体的10%，它贡献了总体70%的销售额。但其实进入S组的门槛并不太高，年销售额超过￥xxxxx，已经可以加入消费S组。\n",
        "\n",
        "这边我们可以提供一个应用场景：会员升级 你的老板让你测算用户升级对整体销售提升的效果。"
      ]
    },
    {
      "cell_type": "code",
      "metadata": {
        "colab": {
          "base_uri": "https://localhost:8080/"
        },
        "id": "M9OWLKmtsPEK",
        "outputId": "9195937b-2bcb-4fe4-827b-ff3562bc6fef"
      },
      "source": [
        "#create column total cost\n",
        "retail_uk['TotalCost'] = retail_uk['Quantity'] * retail_uk['UnitPrice']"
      ],
      "execution_count": 80,
      "outputs": [
        {
          "output_type": "stream",
          "text": [
            "time: 5.07 ms (started: 2021-07-26 04:06:42 +00:00)\n"
          ],
          "name": "stdout"
        }
      ]
    },
    {
      "cell_type": "code",
      "metadata": {
        "colab": {
          "base_uri": "https://localhost:8080/",
          "height": 221
        },
        "id": "uMOnso2Noy3T",
        "outputId": "bc7ed7e4-62bd-4e45-e40b-1372c87dcda3"
      },
      "source": [
        "monetary_df = retail_uk.groupby(by='CustomerID',as_index=False).agg({'TotalCost': 'sum'})\n",
        "monetary_df.columns = ['CustomerID','Monetary']\n",
        "monetary_df.head()"
      ],
      "execution_count": 81,
      "outputs": [
        {
          "output_type": "execute_result",
          "data": {
            "text/html": [
              "<div>\n",
              "<style scoped>\n",
              "    .dataframe tbody tr th:only-of-type {\n",
              "        vertical-align: middle;\n",
              "    }\n",
              "\n",
              "    .dataframe tbody tr th {\n",
              "        vertical-align: top;\n",
              "    }\n",
              "\n",
              "    .dataframe thead th {\n",
              "        text-align: right;\n",
              "    }\n",
              "</style>\n",
              "<table border=\"1\" class=\"dataframe\">\n",
              "  <thead>\n",
              "    <tr style=\"text-align: right;\">\n",
              "      <th></th>\n",
              "      <th>CustomerID</th>\n",
              "      <th>Monetary</th>\n",
              "    </tr>\n",
              "  </thead>\n",
              "  <tbody>\n",
              "    <tr>\n",
              "      <th>0</th>\n",
              "      <td>12747</td>\n",
              "      <td>191.85</td>\n",
              "    </tr>\n",
              "    <tr>\n",
              "      <th>1</th>\n",
              "      <td>12748</td>\n",
              "      <td>1054.43</td>\n",
              "    </tr>\n",
              "    <tr>\n",
              "      <th>2</th>\n",
              "      <td>12749</td>\n",
              "      <td>67.00</td>\n",
              "    </tr>\n",
              "    <tr>\n",
              "      <th>3</th>\n",
              "      <td>12820</td>\n",
              "      <td>15.00</td>\n",
              "    </tr>\n",
              "    <tr>\n",
              "      <th>4</th>\n",
              "      <td>12821</td>\n",
              "      <td>19.92</td>\n",
              "    </tr>\n",
              "  </tbody>\n",
              "</table>\n",
              "</div>"
            ],
            "text/plain": [
              "  CustomerID  Monetary\n",
              "0      12747    191.85\n",
              "1      12748   1054.43\n",
              "2      12749     67.00\n",
              "3      12820     15.00\n",
              "4      12821     19.92"
            ]
          },
          "metadata": {
            "tags": []
          },
          "execution_count": 81
        },
        {
          "output_type": "stream",
          "text": [
            "time: 22.6 ms (started: 2021-07-26 04:06:42 +00:00)\n"
          ],
          "name": "stdout"
        }
      ]
    },
    {
      "cell_type": "markdown",
      "metadata": {
        "id": "BL5LQGGbyecR"
      },
      "source": [
        "# Create RFM Table\n"
      ]
    },
    {
      "cell_type": "code",
      "metadata": {
        "colab": {
          "base_uri": "https://localhost:8080/",
          "height": 221
        },
        "id": "yP1KqEG5oy0K",
        "outputId": "d65a04b2-15cc-455a-cda8-79fb388dff1d"
      },
      "source": [
        "#merge recency dataframe with frequency dataframe\n",
        "temp_df = recency_df.merge(frequency_df,on='CustomerID')\n",
        "temp_df.head()"
      ],
      "execution_count": 82,
      "outputs": [
        {
          "output_type": "execute_result",
          "data": {
            "text/html": [
              "<div>\n",
              "<style scoped>\n",
              "    .dataframe tbody tr th:only-of-type {\n",
              "        vertical-align: middle;\n",
              "    }\n",
              "\n",
              "    .dataframe tbody tr th {\n",
              "        vertical-align: top;\n",
              "    }\n",
              "\n",
              "    .dataframe thead th {\n",
              "        text-align: right;\n",
              "    }\n",
              "</style>\n",
              "<table border=\"1\" class=\"dataframe\">\n",
              "  <thead>\n",
              "    <tr style=\"text-align: right;\">\n",
              "      <th></th>\n",
              "      <th>CustomerID</th>\n",
              "      <th>Recency</th>\n",
              "      <th>Frequency</th>\n",
              "    </tr>\n",
              "  </thead>\n",
              "  <tbody>\n",
              "    <tr>\n",
              "      <th>0</th>\n",
              "      <td>12747</td>\n",
              "      <td>109</td>\n",
              "      <td>5</td>\n",
              "    </tr>\n",
              "    <tr>\n",
              "      <th>1</th>\n",
              "      <td>12748</td>\n",
              "      <td>70</td>\n",
              "      <td>96</td>\n",
              "    </tr>\n",
              "    <tr>\n",
              "      <th>2</th>\n",
              "      <td>12749</td>\n",
              "      <td>130</td>\n",
              "      <td>3</td>\n",
              "    </tr>\n",
              "    <tr>\n",
              "      <th>3</th>\n",
              "      <td>12820</td>\n",
              "      <td>74</td>\n",
              "      <td>1</td>\n",
              "    </tr>\n",
              "    <tr>\n",
              "      <th>4</th>\n",
              "      <td>12821</td>\n",
              "      <td>214</td>\n",
              "      <td>1</td>\n",
              "    </tr>\n",
              "  </tbody>\n",
              "</table>\n",
              "</div>"
            ],
            "text/plain": [
              "  CustomerID  Recency  Frequency\n",
              "0      12747      109          5\n",
              "1      12748       70         96\n",
              "2      12749      130          3\n",
              "3      12820       74          1\n",
              "4      12821      214          1"
            ]
          },
          "metadata": {
            "tags": []
          },
          "execution_count": 82
        },
        {
          "output_type": "stream",
          "text": [
            "time: 23 ms (started: 2021-07-26 04:06:42 +00:00)\n"
          ],
          "name": "stdout"
        }
      ]
    },
    {
      "cell_type": "code",
      "metadata": {
        "colab": {
          "base_uri": "https://localhost:8080/",
          "height": 252
        },
        "id": "zcnFlK3MoyxV",
        "outputId": "2b7e05b1-4b03-4001-8f82-468162f95b1c"
      },
      "source": [
        "#merge with monetary dataframe to get a table with the 3 columns\n",
        "rfm_df = temp_df.merge(monetary_df,on='CustomerID')\n",
        "#use CustomerID as index\n",
        "rfm_df.set_index('CustomerID',inplace=True)\n",
        "#check the head\n",
        "rfm_df.head()"
      ],
      "execution_count": 83,
      "outputs": [
        {
          "output_type": "execute_result",
          "data": {
            "text/html": [
              "<div>\n",
              "<style scoped>\n",
              "    .dataframe tbody tr th:only-of-type {\n",
              "        vertical-align: middle;\n",
              "    }\n",
              "\n",
              "    .dataframe tbody tr th {\n",
              "        vertical-align: top;\n",
              "    }\n",
              "\n",
              "    .dataframe thead th {\n",
              "        text-align: right;\n",
              "    }\n",
              "</style>\n",
              "<table border=\"1\" class=\"dataframe\">\n",
              "  <thead>\n",
              "    <tr style=\"text-align: right;\">\n",
              "      <th></th>\n",
              "      <th>Recency</th>\n",
              "      <th>Frequency</th>\n",
              "      <th>Monetary</th>\n",
              "    </tr>\n",
              "    <tr>\n",
              "      <th>CustomerID</th>\n",
              "      <th></th>\n",
              "      <th></th>\n",
              "      <th></th>\n",
              "    </tr>\n",
              "  </thead>\n",
              "  <tbody>\n",
              "    <tr>\n",
              "      <th>12747</th>\n",
              "      <td>109</td>\n",
              "      <td>5</td>\n",
              "      <td>191.85</td>\n",
              "    </tr>\n",
              "    <tr>\n",
              "      <th>12748</th>\n",
              "      <td>70</td>\n",
              "      <td>96</td>\n",
              "      <td>1054.43</td>\n",
              "    </tr>\n",
              "    <tr>\n",
              "      <th>12749</th>\n",
              "      <td>130</td>\n",
              "      <td>3</td>\n",
              "      <td>67.00</td>\n",
              "    </tr>\n",
              "    <tr>\n",
              "      <th>12820</th>\n",
              "      <td>74</td>\n",
              "      <td>1</td>\n",
              "      <td>15.00</td>\n",
              "    </tr>\n",
              "    <tr>\n",
              "      <th>12821</th>\n",
              "      <td>214</td>\n",
              "      <td>1</td>\n",
              "      <td>19.92</td>\n",
              "    </tr>\n",
              "  </tbody>\n",
              "</table>\n",
              "</div>"
            ],
            "text/plain": [
              "            Recency  Frequency  Monetary\n",
              "CustomerID                              \n",
              "12747           109          5    191.85\n",
              "12748            70         96   1054.43\n",
              "12749           130          3     67.00\n",
              "12820            74          1     15.00\n",
              "12821           214          1     19.92"
            ]
          },
          "metadata": {
            "tags": []
          },
          "execution_count": 83
        },
        {
          "output_type": "stream",
          "text": [
            "time: 22.7 ms (started: 2021-07-26 04:06:42 +00:00)\n"
          ],
          "name": "stdout"
        }
      ]
    },
    {
      "cell_type": "markdown",
      "metadata": {
        "id": "AYrO1678ykVM"
      },
      "source": [
        "## RFM Table Correctness verification"
      ]
    },
    {
      "cell_type": "code",
      "metadata": {
        "colab": {
          "base_uri": "https://localhost:8080/",
          "height": 97
        },
        "id": "end280ynoyuV",
        "outputId": "50104886-058b-42f3-f629-70acc37fe547"
      },
      "source": [
        "retail_uk[retail_uk['CustomerID']=='12820']"
      ],
      "execution_count": 84,
      "outputs": [
        {
          "output_type": "execute_result",
          "data": {
            "text/html": [
              "<div>\n",
              "<style scoped>\n",
              "    .dataframe tbody tr th:only-of-type {\n",
              "        vertical-align: middle;\n",
              "    }\n",
              "\n",
              "    .dataframe tbody tr th {\n",
              "        vertical-align: top;\n",
              "    }\n",
              "\n",
              "    .dataframe thead th {\n",
              "        text-align: right;\n",
              "    }\n",
              "</style>\n",
              "<table border=\"1\" class=\"dataframe\">\n",
              "  <thead>\n",
              "    <tr style=\"text-align: right;\">\n",
              "      <th></th>\n",
              "      <th>InvoiceNo</th>\n",
              "      <th>StockCode</th>\n",
              "      <th>Description</th>\n",
              "      <th>Quantity</th>\n",
              "      <th>InvoiceDate</th>\n",
              "      <th>UnitPrice</th>\n",
              "      <th>CustomerID</th>\n",
              "      <th>Country</th>\n",
              "      <th>date</th>\n",
              "      <th>TotalCost</th>\n",
              "    </tr>\n",
              "  </thead>\n",
              "  <tbody>\n",
              "    <tr>\n",
              "      <th>360567</th>\n",
              "      <td>568236</td>\n",
              "      <td>23328</td>\n",
              "      <td>SET 6 SCHOOL MILK BOTTLES IN CRATE</td>\n",
              "      <td>4</td>\n",
              "      <td>9/26/2011 11:49</td>\n",
              "      <td>3.75</td>\n",
              "      <td>12820</td>\n",
              "      <td>United Kingdom</td>\n",
              "      <td>2011-09-26</td>\n",
              "      <td>15.0</td>\n",
              "    </tr>\n",
              "  </tbody>\n",
              "</table>\n",
              "</div>"
            ],
            "text/plain": [
              "       InvoiceNo StockCode  ...        date  TotalCost\n",
              "360567    568236     23328  ...  2011-09-26       15.0\n",
              "\n",
              "[1 rows x 10 columns]"
            ]
          },
          "metadata": {
            "tags": []
          },
          "execution_count": 84
        },
        {
          "output_type": "stream",
          "text": [
            "time: 33.4 ms (started: 2021-07-26 04:06:42 +00:00)\n"
          ],
          "name": "stdout"
        }
      ]
    },
    {
      "cell_type": "code",
      "metadata": {
        "colab": {
          "base_uri": "https://localhost:8080/"
        },
        "id": "v6UrvkL_oyrj",
        "outputId": "b3b4b3dd-5bdb-4e2e-9753-751039e8e2c4"
      },
      "source": [
        "(now - dt.date(2011,9,26)).days == 74"
      ],
      "execution_count": 85,
      "outputs": [
        {
          "output_type": "execute_result",
          "data": {
            "text/plain": [
              "True"
            ]
          },
          "metadata": {
            "tags": []
          },
          "execution_count": 85
        },
        {
          "output_type": "stream",
          "text": [
            "time: 3.94 ms (started: 2021-07-26 04:06:42 +00:00)\n"
          ],
          "name": "stdout"
        }
      ]
    },
    {
      "cell_type": "markdown",
      "metadata": {
        "id": "JOiVKwh3yuNA"
      },
      "source": [
        "# Customer segments with RFM Model\n",
        "\n",
        "\n",
        "The simplest way to create customers segments from RFM Model is to use Quartiles. We assign a score from 1 to 4 to Recency, Frequency and Monetary. Four is the best/highest value, and one is the lowest/worst value. A final RFM score is calculated simply by combining individual RFM score numbers.\n",
        "\n",
        "Note: Quintiles (score from 1-5) offer better granularity, in case the business needs that but it will be more challenging to create segments since we will have 555 possible combinations. So, we will use quartiles.\n",
        "\n",
        "当我们得到了R,F,M各个维度的数据，下一步就可以进行**分箱**了，每个组都可以分成1-4，或者S,A,B,C四组"
      ]
    },
    {
      "cell_type": "code",
      "metadata": {
        "colab": {
          "base_uri": "https://localhost:8080/",
          "height": 159
        },
        "id": "J8Tv1zMvtvnc",
        "outputId": "dc35c07f-0aab-444e-f011-937dc7702906"
      },
      "source": [
        "quantiles = rfm_df.quantile(q=[0.25,0.5,0.75])\n",
        "quantiles"
      ],
      "execution_count": 86,
      "outputs": [
        {
          "output_type": "execute_result",
          "data": {
            "text/html": [
              "<div>\n",
              "<style scoped>\n",
              "    .dataframe tbody tr th:only-of-type {\n",
              "        vertical-align: middle;\n",
              "    }\n",
              "\n",
              "    .dataframe tbody tr th {\n",
              "        vertical-align: top;\n",
              "    }\n",
              "\n",
              "    .dataframe thead th {\n",
              "        text-align: right;\n",
              "    }\n",
              "</style>\n",
              "<table border=\"1\" class=\"dataframe\">\n",
              "  <thead>\n",
              "    <tr style=\"text-align: right;\">\n",
              "      <th></th>\n",
              "      <th>Recency</th>\n",
              "      <th>Frequency</th>\n",
              "      <th>Monetary</th>\n",
              "    </tr>\n",
              "  </thead>\n",
              "  <tbody>\n",
              "    <tr>\n",
              "      <th>0.25</th>\n",
              "      <td>85.0</td>\n",
              "      <td>1.0</td>\n",
              "      <td>16.35</td>\n",
              "    </tr>\n",
              "    <tr>\n",
              "      <th>0.50</th>\n",
              "      <td>119.0</td>\n",
              "      <td>2.0</td>\n",
              "      <td>35.40</td>\n",
              "    </tr>\n",
              "    <tr>\n",
              "      <th>0.75</th>\n",
              "      <td>183.0</td>\n",
              "      <td>3.0</td>\n",
              "      <td>92.42</td>\n",
              "    </tr>\n",
              "  </tbody>\n",
              "</table>\n",
              "</div>"
            ],
            "text/plain": [
              "      Recency  Frequency  Monetary\n",
              "0.25     85.0        1.0     16.35\n",
              "0.50    119.0        2.0     35.40\n",
              "0.75    183.0        3.0     92.42"
            ]
          },
          "metadata": {
            "tags": []
          },
          "execution_count": 86
        },
        {
          "output_type": "stream",
          "text": [
            "time: 24.6 ms (started: 2021-07-26 04:06:42 +00:00)\n"
          ],
          "name": "stdout"
        }
      ]
    },
    {
      "cell_type": "code",
      "metadata": {
        "colab": {
          "base_uri": "https://localhost:8080/"
        },
        "id": "9Zm30kQFtvlb",
        "outputId": "6f8d56ba-183d-4411-b77c-78e59e00b135"
      },
      "source": [
        "quantiles.to_dict()"
      ],
      "execution_count": 87,
      "outputs": [
        {
          "output_type": "execute_result",
          "data": {
            "text/plain": [
              "{'Frequency': {0.25: 1.0, 0.5: 2.0, 0.75: 3.0},\n",
              " 'Monetary': {0.25: 16.35, 0.5: 35.400000000000006, 0.75: 92.42000000000002},\n",
              " 'Recency': {0.25: 85.0, 0.5: 119.0, 0.75: 183.0}}"
            ]
          },
          "metadata": {
            "tags": []
          },
          "execution_count": 87
        },
        {
          "output_type": "stream",
          "text": [
            "time: 17.1 ms (started: 2021-07-26 04:06:42 +00:00)\n"
          ],
          "name": "stdout"
        }
      ]
    },
    {
      "cell_type": "markdown",
      "metadata": {
        "id": "QMzSE2cUy131"
      },
      "source": [
        "## Creation of RFM Segments\n",
        "\n",
        "We will create two segmentation classes since, high recency is bad, while high frequency and monetary value is good."
      ]
    },
    {
      "cell_type": "markdown",
      "metadata": {
        "id": "FdHgpNsiJomH"
      },
      "source": [
        "## RFM Quartiles / Binning"
      ]
    },
    {
      "cell_type": "code",
      "metadata": {
        "colab": {
          "base_uri": "https://localhost:8080/"
        },
        "id": "fVhTIC6jtvjM",
        "outputId": "6e1f2e43-c246-467c-ccd6-1c21f5355161"
      },
      "source": [
        "# Arguments (x = value, p = recency, monetary_value, frequency, d = quartiles dict)\n",
        "def RScore(x,p,d):\n",
        "    if x <= d[p][0.25]:\n",
        "        return 4\n",
        "    elif x <= d[p][0.50]:\n",
        "        return 3\n",
        "    elif x <= d[p][0.75]: \n",
        "        return 2\n",
        "    else:\n",
        "        return 1\n",
        "# Arguments (x = value, p = recency, monetary_value, frequency, k = quartiles dict)\n",
        "def FMScore(x,p,d):\n",
        "    if x <= d[p][0.25]:\n",
        "        return 1\n",
        "    elif x <= d[p][0.50]:\n",
        "        return 2\n",
        "    elif x <= d[p][0.75]: \n",
        "        return 3\n",
        "    else:\n",
        "        return 4"
      ],
      "execution_count": 88,
      "outputs": [
        {
          "output_type": "stream",
          "text": [
            "time: 8.94 ms (started: 2021-07-26 04:06:42 +00:00)\n"
          ],
          "name": "stdout"
        }
      ]
    },
    {
      "cell_type": "markdown",
      "metadata": {
        "id": "HzfHmjWPy7fE"
      },
      "source": [
        "Now that we have the score of each customer, we can represent our customer segmentation. First, we need to combine the scores (R_Quartile, F_Quartile,M_Quartile) together."
      ]
    },
    {
      "cell_type": "code",
      "metadata": {
        "colab": {
          "base_uri": "https://localhost:8080/"
        },
        "id": "KBj-yNp6tvfI",
        "outputId": "bdfcc001-c735-4dbc-d104-8cbe51c7e7ae"
      },
      "source": [
        "#create rfm segmentation table\n",
        "rfm_segmentation = rfm_df\n",
        "rfm_segmentation['R_Quartile'] = rfm_segmentation['Recency'].apply(RScore, args=('Recency',quantiles,))\n",
        "rfm_segmentation['F_Quartile'] = rfm_segmentation['Frequency'].apply(FMScore, args=('Frequency',quantiles,))\n",
        "rfm_segmentation['M_Quartile'] = rfm_segmentation['Monetary'].apply(FMScore, args=('Monetary',quantiles,))"
      ],
      "execution_count": 89,
      "outputs": [
        {
          "output_type": "stream",
          "text": [
            "time: 180 ms (started: 2021-07-26 04:06:42 +00:00)\n"
          ],
          "name": "stdout"
        }
      ]
    },
    {
      "cell_type": "code",
      "metadata": {
        "colab": {
          "base_uri": "https://localhost:8080/",
          "height": 252
        },
        "id": "pACeeY9dtva_",
        "outputId": "157b0dad-8924-43e3-a5b0-0e8732e35493"
      },
      "source": [
        "rfm_segmentation.head()"
      ],
      "execution_count": 90,
      "outputs": [
        {
          "output_type": "execute_result",
          "data": {
            "text/html": [
              "<div>\n",
              "<style scoped>\n",
              "    .dataframe tbody tr th:only-of-type {\n",
              "        vertical-align: middle;\n",
              "    }\n",
              "\n",
              "    .dataframe tbody tr th {\n",
              "        vertical-align: top;\n",
              "    }\n",
              "\n",
              "    .dataframe thead th {\n",
              "        text-align: right;\n",
              "    }\n",
              "</style>\n",
              "<table border=\"1\" class=\"dataframe\">\n",
              "  <thead>\n",
              "    <tr style=\"text-align: right;\">\n",
              "      <th></th>\n",
              "      <th>Recency</th>\n",
              "      <th>Frequency</th>\n",
              "      <th>Monetary</th>\n",
              "      <th>R_Quartile</th>\n",
              "      <th>F_Quartile</th>\n",
              "      <th>M_Quartile</th>\n",
              "    </tr>\n",
              "    <tr>\n",
              "      <th>CustomerID</th>\n",
              "      <th></th>\n",
              "      <th></th>\n",
              "      <th></th>\n",
              "      <th></th>\n",
              "      <th></th>\n",
              "      <th></th>\n",
              "    </tr>\n",
              "  </thead>\n",
              "  <tbody>\n",
              "    <tr>\n",
              "      <th>12747</th>\n",
              "      <td>109</td>\n",
              "      <td>5</td>\n",
              "      <td>191.85</td>\n",
              "      <td>3</td>\n",
              "      <td>4</td>\n",
              "      <td>4</td>\n",
              "    </tr>\n",
              "    <tr>\n",
              "      <th>12748</th>\n",
              "      <td>70</td>\n",
              "      <td>96</td>\n",
              "      <td>1054.43</td>\n",
              "      <td>4</td>\n",
              "      <td>4</td>\n",
              "      <td>4</td>\n",
              "    </tr>\n",
              "    <tr>\n",
              "      <th>12749</th>\n",
              "      <td>130</td>\n",
              "      <td>3</td>\n",
              "      <td>67.00</td>\n",
              "      <td>2</td>\n",
              "      <td>3</td>\n",
              "      <td>3</td>\n",
              "    </tr>\n",
              "    <tr>\n",
              "      <th>12820</th>\n",
              "      <td>74</td>\n",
              "      <td>1</td>\n",
              "      <td>15.00</td>\n",
              "      <td>4</td>\n",
              "      <td>1</td>\n",
              "      <td>1</td>\n",
              "    </tr>\n",
              "    <tr>\n",
              "      <th>12821</th>\n",
              "      <td>214</td>\n",
              "      <td>1</td>\n",
              "      <td>19.92</td>\n",
              "      <td>1</td>\n",
              "      <td>1</td>\n",
              "      <td>2</td>\n",
              "    </tr>\n",
              "  </tbody>\n",
              "</table>\n",
              "</div>"
            ],
            "text/plain": [
              "            Recency  Frequency  Monetary  R_Quartile  F_Quartile  M_Quartile\n",
              "CustomerID                                                                  \n",
              "12747           109          5    191.85           3           4           4\n",
              "12748            70         96   1054.43           4           4           4\n",
              "12749           130          3     67.00           2           3           3\n",
              "12820            74          1     15.00           4           1           1\n",
              "12821           214          1     19.92           1           1           2"
            ]
          },
          "metadata": {
            "tags": []
          },
          "execution_count": 90
        },
        {
          "output_type": "stream",
          "text": [
            "time: 17.3 ms (started: 2021-07-26 04:06:42 +00:00)\n"
          ],
          "name": "stdout"
        }
      ]
    },
    {
      "cell_type": "markdown",
      "metadata": {
        "id": "JFPVyNyXzH1c"
      },
      "source": [
        "Best Recency score = 4: most recently purchase. Best Frequency score = 4: most quantity purchase. Best Monetary score = 4: spent the most.\n",
        "\n",
        "Let's see who are our Champions (best customers).\n",
        "\n"
      ]
    },
    {
      "cell_type": "code",
      "metadata": {
        "colab": {
          "base_uri": "https://localhost:8080/",
          "height": 252
        },
        "id": "W3ejaRo4tvWX",
        "outputId": "056661c6-dc2c-4ccf-cfde-6841701776ae"
      },
      "source": [
        "rfm_segmentation['RFMScore'] = rfm_segmentation.R_Quartile.map(str) \\\n",
        "                            + rfm_segmentation.F_Quartile.map(str) \\\n",
        "                            + rfm_segmentation.M_Quartile.map(str)\n",
        "rfm_segmentation.head()"
      ],
      "execution_count": 91,
      "outputs": [
        {
          "output_type": "execute_result",
          "data": {
            "text/html": [
              "<div>\n",
              "<style scoped>\n",
              "    .dataframe tbody tr th:only-of-type {\n",
              "        vertical-align: middle;\n",
              "    }\n",
              "\n",
              "    .dataframe tbody tr th {\n",
              "        vertical-align: top;\n",
              "    }\n",
              "\n",
              "    .dataframe thead th {\n",
              "        text-align: right;\n",
              "    }\n",
              "</style>\n",
              "<table border=\"1\" class=\"dataframe\">\n",
              "  <thead>\n",
              "    <tr style=\"text-align: right;\">\n",
              "      <th></th>\n",
              "      <th>Recency</th>\n",
              "      <th>Frequency</th>\n",
              "      <th>Monetary</th>\n",
              "      <th>R_Quartile</th>\n",
              "      <th>F_Quartile</th>\n",
              "      <th>M_Quartile</th>\n",
              "      <th>RFMScore</th>\n",
              "    </tr>\n",
              "    <tr>\n",
              "      <th>CustomerID</th>\n",
              "      <th></th>\n",
              "      <th></th>\n",
              "      <th></th>\n",
              "      <th></th>\n",
              "      <th></th>\n",
              "      <th></th>\n",
              "      <th></th>\n",
              "    </tr>\n",
              "  </thead>\n",
              "  <tbody>\n",
              "    <tr>\n",
              "      <th>12747</th>\n",
              "      <td>109</td>\n",
              "      <td>5</td>\n",
              "      <td>191.85</td>\n",
              "      <td>3</td>\n",
              "      <td>4</td>\n",
              "      <td>4</td>\n",
              "      <td>344</td>\n",
              "    </tr>\n",
              "    <tr>\n",
              "      <th>12748</th>\n",
              "      <td>70</td>\n",
              "      <td>96</td>\n",
              "      <td>1054.43</td>\n",
              "      <td>4</td>\n",
              "      <td>4</td>\n",
              "      <td>4</td>\n",
              "      <td>444</td>\n",
              "    </tr>\n",
              "    <tr>\n",
              "      <th>12749</th>\n",
              "      <td>130</td>\n",
              "      <td>3</td>\n",
              "      <td>67.00</td>\n",
              "      <td>2</td>\n",
              "      <td>3</td>\n",
              "      <td>3</td>\n",
              "      <td>233</td>\n",
              "    </tr>\n",
              "    <tr>\n",
              "      <th>12820</th>\n",
              "      <td>74</td>\n",
              "      <td>1</td>\n",
              "      <td>15.00</td>\n",
              "      <td>4</td>\n",
              "      <td>1</td>\n",
              "      <td>1</td>\n",
              "      <td>411</td>\n",
              "    </tr>\n",
              "    <tr>\n",
              "      <th>12821</th>\n",
              "      <td>214</td>\n",
              "      <td>1</td>\n",
              "      <td>19.92</td>\n",
              "      <td>1</td>\n",
              "      <td>1</td>\n",
              "      <td>2</td>\n",
              "      <td>112</td>\n",
              "    </tr>\n",
              "  </tbody>\n",
              "</table>\n",
              "</div>"
            ],
            "text/plain": [
              "            Recency  Frequency  Monetary  ...  F_Quartile  M_Quartile  RFMScore\n",
              "CustomerID                                ...                                  \n",
              "12747           109          5    191.85  ...           4           4       344\n",
              "12748            70         96   1054.43  ...           4           4       444\n",
              "12749           130          3     67.00  ...           3           3       233\n",
              "12820            74          1     15.00  ...           1           1       411\n",
              "12821           214          1     19.92  ...           1           2       112\n",
              "\n",
              "[5 rows x 7 columns]"
            ]
          },
          "metadata": {
            "tags": []
          },
          "execution_count": 91
        },
        {
          "output_type": "stream",
          "text": [
            "time: 30.9 ms (started: 2021-07-26 04:06:42 +00:00)\n"
          ],
          "name": "stdout"
        }
      ]
    },
    {
      "cell_type": "markdown",
      "metadata": {
        "id": "252Dk9UZTvZv"
      },
      "source": [
        "挑选出RFM为`444`的组，我们的SVIP用户。"
      ]
    },
    {
      "cell_type": "code",
      "metadata": {
        "colab": {
          "base_uri": "https://localhost:8080/",
          "height": 407
        },
        "id": "EdYiGMj2tvRG",
        "outputId": "653da099-eaf2-45bd-c6c7-a9b544369a25"
      },
      "source": [
        "rfm_segmentation[rfm_segmentation['RFMScore']=='444'].sort_values('Monetary', ascending=False).head(10)"
      ],
      "execution_count": 92,
      "outputs": [
        {
          "output_type": "execute_result",
          "data": {
            "text/html": [
              "<div>\n",
              "<style scoped>\n",
              "    .dataframe tbody tr th:only-of-type {\n",
              "        vertical-align: middle;\n",
              "    }\n",
              "\n",
              "    .dataframe tbody tr th {\n",
              "        vertical-align: top;\n",
              "    }\n",
              "\n",
              "    .dataframe thead th {\n",
              "        text-align: right;\n",
              "    }\n",
              "</style>\n",
              "<table border=\"1\" class=\"dataframe\">\n",
              "  <thead>\n",
              "    <tr style=\"text-align: right;\">\n",
              "      <th></th>\n",
              "      <th>Recency</th>\n",
              "      <th>Frequency</th>\n",
              "      <th>Monetary</th>\n",
              "      <th>R_Quartile</th>\n",
              "      <th>F_Quartile</th>\n",
              "      <th>M_Quartile</th>\n",
              "      <th>RFMScore</th>\n",
              "    </tr>\n",
              "    <tr>\n",
              "      <th>CustomerID</th>\n",
              "      <th></th>\n",
              "      <th></th>\n",
              "      <th></th>\n",
              "      <th></th>\n",
              "      <th></th>\n",
              "      <th></th>\n",
              "      <th></th>\n",
              "    </tr>\n",
              "  </thead>\n",
              "  <tbody>\n",
              "    <tr>\n",
              "      <th>18102</th>\n",
              "      <td>72</td>\n",
              "      <td>34</td>\n",
              "      <td>26632.62</td>\n",
              "      <td>4</td>\n",
              "      <td>4</td>\n",
              "      <td>4</td>\n",
              "      <td>444</td>\n",
              "    </tr>\n",
              "    <tr>\n",
              "      <th>17949</th>\n",
              "      <td>70</td>\n",
              "      <td>32</td>\n",
              "      <td>22504.73</td>\n",
              "      <td>4</td>\n",
              "      <td>4</td>\n",
              "      <td>4</td>\n",
              "      <td>444</td>\n",
              "    </tr>\n",
              "    <tr>\n",
              "      <th>17450</th>\n",
              "      <td>70</td>\n",
              "      <td>28</td>\n",
              "      <td>18009.06</td>\n",
              "      <td>4</td>\n",
              "      <td>4</td>\n",
              "      <td>4</td>\n",
              "      <td>444</td>\n",
              "    </tr>\n",
              "    <tr>\n",
              "      <th>16029</th>\n",
              "      <td>80</td>\n",
              "      <td>39</td>\n",
              "      <td>15119.49</td>\n",
              "      <td>4</td>\n",
              "      <td>4</td>\n",
              "      <td>4</td>\n",
              "      <td>444</td>\n",
              "    </tr>\n",
              "    <tr>\n",
              "      <th>16013</th>\n",
              "      <td>70</td>\n",
              "      <td>24</td>\n",
              "      <td>10402.34</td>\n",
              "      <td>4</td>\n",
              "      <td>4</td>\n",
              "      <td>4</td>\n",
              "      <td>444</td>\n",
              "    </tr>\n",
              "    <tr>\n",
              "      <th>12901</th>\n",
              "      <td>81</td>\n",
              "      <td>20</td>\n",
              "      <td>5915.66</td>\n",
              "      <td>4</td>\n",
              "      <td>4</td>\n",
              "      <td>4</td>\n",
              "      <td>444</td>\n",
              "    </tr>\n",
              "    <tr>\n",
              "      <th>13798</th>\n",
              "      <td>72</td>\n",
              "      <td>34</td>\n",
              "      <td>4648.80</td>\n",
              "      <td>4</td>\n",
              "      <td>4</td>\n",
              "      <td>4</td>\n",
              "      <td>444</td>\n",
              "    </tr>\n",
              "    <tr>\n",
              "      <th>17857</th>\n",
              "      <td>72</td>\n",
              "      <td>12</td>\n",
              "      <td>4644.68</td>\n",
              "      <td>4</td>\n",
              "      <td>4</td>\n",
              "      <td>4</td>\n",
              "      <td>444</td>\n",
              "    </tr>\n",
              "    <tr>\n",
              "      <th>13694</th>\n",
              "      <td>71</td>\n",
              "      <td>32</td>\n",
              "      <td>4472.68</td>\n",
              "      <td>4</td>\n",
              "      <td>4</td>\n",
              "      <td>4</td>\n",
              "      <td>444</td>\n",
              "    </tr>\n",
              "    <tr>\n",
              "      <th>15061</th>\n",
              "      <td>73</td>\n",
              "      <td>23</td>\n",
              "      <td>3417.70</td>\n",
              "      <td>4</td>\n",
              "      <td>4</td>\n",
              "      <td>4</td>\n",
              "      <td>444</td>\n",
              "    </tr>\n",
              "  </tbody>\n",
              "</table>\n",
              "</div>"
            ],
            "text/plain": [
              "            Recency  Frequency  Monetary  ...  F_Quartile  M_Quartile  RFMScore\n",
              "CustomerID                                ...                                  \n",
              "18102            72         34  26632.62  ...           4           4       444\n",
              "17949            70         32  22504.73  ...           4           4       444\n",
              "17450            70         28  18009.06  ...           4           4       444\n",
              "16029            80         39  15119.49  ...           4           4       444\n",
              "16013            70         24  10402.34  ...           4           4       444\n",
              "12901            81         20   5915.66  ...           4           4       444\n",
              "13798            72         34   4648.80  ...           4           4       444\n",
              "17857            72         12   4644.68  ...           4           4       444\n",
              "13694            71         32   4472.68  ...           4           4       444\n",
              "15061            73         23   3417.70  ...           4           4       444\n",
              "\n",
              "[10 rows x 7 columns]"
            ]
          },
          "metadata": {
            "tags": []
          },
          "execution_count": 92
        },
        {
          "output_type": "stream",
          "text": [
            "time: 32.4 ms (started: 2021-07-26 04:06:42 +00:00)\n"
          ],
          "name": "stdout"
        }
      ]
    },
    {
      "cell_type": "markdown",
      "metadata": {
        "id": "TPnyMAkczLQN"
      },
      "source": [
        "We can find here a suggestion of key segments and then we can decide which segment to consider for further study.\n",
        "\n",
        "Note: the suggested link use the opposite valuation: 1 as highest/best score and 4 is the lowest.\n",
        "\n",
        "How many customers do we have in each segment?\n",
        "\n"
      ]
    },
    {
      "cell_type": "code",
      "metadata": {
        "colab": {
          "base_uri": "https://localhost:8080/"
        },
        "id": "puNYBrZZtvMu",
        "outputId": "9cd9fdca-bbe8-435a-e288-d974056f6d2d"
      },
      "source": [
        "print(\"Best Customers: \",len(rfm_segmentation[rfm_segmentation['RFMScore']=='444']))\n",
        "print('Loyal Customers: ',len(rfm_segmentation[rfm_segmentation['F_Quartile']==4]))\n",
        "print(\"Big Spenders: \",len(rfm_segmentation[rfm_segmentation['M_Quartile']==4]))\n",
        "print('Almost Lost: ', len(rfm_segmentation[rfm_segmentation['RFMScore']=='244']))\n",
        "print('Lost Customers: ',len(rfm_segmentation[rfm_segmentation['RFMScore']=='144']))\n",
        "print('Lost Cheap Customers: ',len(rfm_segmentation[rfm_segmentation['RFMScore']=='111']))"
      ],
      "execution_count": 93,
      "outputs": [
        {
          "output_type": "stream",
          "text": [
            "Best Customers:  218\n",
            "Loyal Customers:  687\n",
            "Big Spenders:  716\n",
            "Almost Lost:  52\n",
            "Lost Customers:  5\n",
            "Lost Cheap Customers:  278\n",
            "time: 23.6 ms (started: 2021-07-26 04:06:42 +00:00)\n"
          ],
          "name": "stdout"
        }
      ]
    },
    {
      "cell_type": "markdown",
      "metadata": {
        "id": "62AligxrzOQ5"
      },
      "source": [
        "Now that we knew our customers segments we can choose how to target or deal with each segment.\n",
        "\n",
        "For example:\n",
        "\n",
        "- Best Customers - Champions: Reward them. They can be early adopters to new products. Suggest them \"Refer a friend\".\n",
        "\n",
        "- At Risk: Send them personalized emails to encourage them to shop.\n",
        "\n",
        "More ideas about what actions to perform in Ometria.\n",
        "\n",
        "\n",
        "通过上述分析，我们得到三个简单标签 —— 最近一次消费，消费频次，消费金额。\n",
        "\n",
        "很多分析者喜欢一上来就把三者赋予对应权重，合并计算出一个得分，确实有可取的场景。但其实每一个标签不是为了单个分析报告或者业务活动服务进行的一次性分析。主要还是作为数据资产，以用户标签库的形式，随取随用，服务于各个业务及分析场景。\n",
        "\n",
        "这边我们将三者联合：    \n",
        "![](http://image.woshipm.com/wp-files/2020/04/MBYAiWWnVedJloBeNHzU.jpg)\n",
        "\n",
        "我们可以看到各个标签下用户的表现然后结合具体业务目的分析。\n",
        "![](http://image.woshipm.com/wp-files/2020/04/fQk1Q2v2zS9E1b8EO8kZ.jpg)\n",
        "\n",
        "\n",
        "我们选择三个重要标签组来演示：    \n",
        "![](http://image.woshipm.com/wp-files/2020/04/EcFweh7ZPkiwC7dqNeol.jpg)\n",
        "\n",
        "同样，我们可以给每个标签内的组别赋予相应的分值，再对每个标签给定相应地权重，来计算出一个总体得分。\n",
        "\n",
        "我们也可以只是RFM每个维度只分为大于小于平均数两个group，根据R、F、M三个值各自高于或不高于平均分的情况，可以细分出2×2×2共8组用户。对于我们来说，理想的用户状态是用户消费时间间隔(R)越短越好，消费频率(F)越高越好，消费金额(M)越大越好，这类用户可以认为是最具价值的用户。以1表示得分优于均值，以0表示得分劣于均值，划分的8组用户类型如下：\n",
        "![](https://www.truemetrics.cn/articles/wp-content/uploads/2020/03/%E6%AD%A3%E6%96%87%E5%9B%BE2.png)\n",
        "\n",
        "可以查看各个group的用户占比：\n",
        "![](https://www.truemetrics.cn/articles/wp-content/uploads/2020/03/%E6%AD%A3%E6%96%87%E5%9B%BE10.png)\n"
      ]
    },
    {
      "cell_type": "markdown",
      "metadata": {
        "id": "e9NzA7dlbbpa"
      },
      "source": [
        "## 形成最终图表\n",
        "\n",
        "更高阶的来看，我们可以使用Power BI / Tableau（或其他交互式数据化工具）直接连接到业务数据库，获取更多的源数据，关联年龄、性别、地域等用户个人信息，通过报表交互快速查看譬如忠诚用户的性别分布、流失用户的地域分布等指标，从多维度细分我们的用户情况。\n",
        "\n",
        "再往上，我们还可以设置RFM参数、时间参数切片器，直接在报表页面上调整日期范围、评分段和时间参照点，从而实现不同时间下的RFM模型建立自动化。\n",
        "![](https://www.truemetrics.cn/articles/wp-content/uploads/2020/03/%E6%AD%A3%E6%96%87%E5%9B%BE11-1024x572.png)"
      ]
    },
    {
      "cell_type": "code",
      "metadata": {
        "id": "VYJk-x50tvJX"
      },
      "source": [
        ""
      ],
      "execution_count": 93,
      "outputs": []
    },
    {
      "cell_type": "markdown",
      "metadata": {
        "id": "2S2AdB_gUi-k"
      },
      "source": [
        "# 应用场景：会员升级\n",
        "\n",
        "这边我们可以提供一个应用场景：会员升级 你的老板让你测算用户升级对整体销售提升的效果。\n",
        "\n",
        "基于Monetery_part的用户升级测算\n",
        "\n",
        "![](http://image.woshipm.com/wp-files/2020/04/SNfcMnW7bg8LkUdHWOmf.jpg)\n",
        "\n",
        "事实上，用户的层级相对来说不是那么容易去改变。另一方面来说，通过有效的策略促进用户升级成功，会对带来巨大的业务增长。\n",
        "\n",
        "我的测算基于如下思维逻辑——每个群组的头部用户更有机会升级到下一个群组的尾部，举例 C组前25%消费排名用户会有机会加入B组的尾部，B组前25%消费排名用户会有机会加入A组的尾部。\n",
        "\n",
        "![](http://image.woshipm.com/wp-files/2020/04/tQEL71bPag2q0HyW8bIE.jpg)\n",
        "\n",
        "B组头部 → A组尾部 的升级 客户只需要提高消费￥2000每年，所以只需要采取一些策略很容易就可以实现这个目标。所以我赋予这层的转化率是80%，而最后能够得到￥23M的收益。\n",
        "\n",
        "A组头部 → S组尾部 的升级 客户需要提高消费￥11000，难度提高，所以我赋予这层的转化率是50%，而最后能够得到￥43.5M的收益。\n",
        "\n",
        "仅仅通过这两个可行度较高的部分就可以增加66.6M的销售提升，而所需的成本很可能就是一些积分，头衔等。但是如果需要提升更高的销售额，那可能需要与客户分享一部分收益。\n",
        "\n",
        "自然还有A级中部用户升级为头部用户，S级底部用户升级为中部用户…还有活跃部分R和F都可以做很多的提升策略，用户一直是很大的宝藏。"
      ]
    },
    {
      "cell_type": "markdown",
      "metadata": {
        "id": "qPMixwWmVsT2"
      },
      "source": [
        "# 更多应用场景\n",
        "1. 如果我们举办一个营销活动关于老客户的促销，我们赋予 R 30%的权重 F 30%的权重 M 40%的权重。\n",
        "\n",
        "用每个用户所在组别对应的分值 X 标签权重 求和 可以得到用户的得分 优先筛选合适分段用户即可。\n",
        "\n",
        "2. 如果我们要办一个**流失用户召回**的活动，我们就可以**直接选择R标签中的 Recent_C 或更久没有消费的用户，同时他的M得分很高，就可以获得更易召回的目标用户**。\n",
        "\n",
        "3. RFM模型可帮助提高客户生命周期价值: 基于实际的交易历史，RFM模型是我们快速了解当前客户价值的方法。在更好地了解细分受众群体的情况下，通过改善业务，促使用户从流失用户→普通用户→忠诚用户转变。\n",
        "\n",
        "4. 通过RFM模型最大程度上降低营销成本并提高回报率: 将营销活动针对那些更有可能对活动做出响应的客户，而非全部用户，从而降低营销成本成本，也提过了转化率。\n",
        "\n",
        "5. 通过RFM模型提高用户忠诚度: 根据帕累托法则（即二八定律），20%的用户会给我们带来80%的贡献。针对高价值用户，我们可以通过感谢信、节日专属福利等方式，增进与其的联系，加强用户归属感。\n",
        "\n",
        "6. 通过RFM模型改善用户流失: 处于休眠状态或流失边缘的用户是值得我们特别注意的，我们需要识别出这部分用户，并通过相应的措施，如个性化电子邮件、短信，亦或是优惠券、折扣商品等，及时将用户唤回。\n",
        "\n",
        "这些标签在面对不同的业务环境是会有很多的应用场景，同时他们也可以与更多的标签和数据结合，关联分析来产生更高的业务价值。\n",
        "\n",
        "不要忽略时间，地区的差异性。不同的地区的用户有着不同的消费水平，我们可以结合具体业务场景分别讨论。\n",
        "\n",
        "本报告完全基于个人实际工作，尽量详细。不清楚的地方和其他想了解探讨的方向，欢迎留言。如首图，后续会更新更多的用户画像的分析报告与实际应用方法。\n",
        "\n"
      ]
    },
    {
      "cell_type": "markdown",
      "metadata": {
        "id": "nN2hOSaEaZRo"
      },
      "source": [
        "# RFM模型的灵活应用\n",
        "\n",
        "RFM模型诞生于传统销售行业，是量化客户行为的简单框架，目前也普遍应用于互联网、电信等行业中。运用该模型细分我们的用户群体时，不应该仅仅局限在消费时间、消费次数、消费金额这三个因素中，可以扩展RFM模型进行相应的变体。\n",
        "\n",
        "对于新闻类网站：\n",
        "![](https://www.truemetrics.cn/articles/wp-content/uploads/2020/03/%E6%AD%A3%E6%96%87%E5%9B%BE12.png)\n",
        "\n",
        "对于BBS论坛类网站：\n",
        "![](https://www.truemetrics.cn/articles/wp-content/uploads/2020/03/%E6%AD%A3%E6%96%87%E5%9B%BE13.png)\n",
        "\n",
        "不同的平台，对应着不同类型的用户群体，对应的R、F、M的具体意义也就不一样。根据笔者的业务分析经验，建议各位要结合自己的实际业务来选取关键数据指标进行分析，协助运营同事更深入地了解用户行为，为其营销策略提供依据，实现数据驱动运营。"
      ]
    },
    {
      "cell_type": "code",
      "metadata": {
        "id": "79gVk5pntvHC"
      },
      "source": [
        ""
      ],
      "execution_count": 93,
      "outputs": []
    }
  ]
}